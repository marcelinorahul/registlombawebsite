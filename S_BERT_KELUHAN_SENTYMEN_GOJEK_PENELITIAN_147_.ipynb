{
  "nbformat": 4,
  "nbformat_minor": 0,
  "metadata": {
    "colab": {
      "provenance": [],
      "gpuType": "T4",
      "authorship_tag": "ABX9TyM7i1OLgdbSS3+wV36fI9CY",
      "include_colab_link": true
    },
    "kernelspec": {
      "name": "python3",
      "display_name": "Python 3"
    },
    "language_info": {
      "name": "python"
    },
    "accelerator": "GPU",
    "widgets": {
      "application/vnd.jupyter.widget-state+json": {
        "c3e4fc646c104c28aca0c6ba2515dd4f": {
          "model_module": "@jupyter-widgets/controls",
          "model_name": "HBoxModel",
          "model_module_version": "1.5.0",
          "state": {
            "_dom_classes": [],
            "_model_module": "@jupyter-widgets/controls",
            "_model_module_version": "1.5.0",
            "_model_name": "HBoxModel",
            "_view_count": null,
            "_view_module": "@jupyter-widgets/controls",
            "_view_module_version": "1.5.0",
            "_view_name": "HBoxView",
            "box_style": "",
            "children": [
              "IPY_MODEL_c5c1372fcf2540f7af739b45a2817d6b",
              "IPY_MODEL_33e0fed25e044743953ba1adf111e27a",
              "IPY_MODEL_77b23c45c9184bf68b59ef8d58c05a93"
            ],
            "layout": "IPY_MODEL_4d6b598a06624872be54fa467e7fac9e"
          }
        },
        "c5c1372fcf2540f7af739b45a2817d6b": {
          "model_module": "@jupyter-widgets/controls",
          "model_name": "HTMLModel",
          "model_module_version": "1.5.0",
          "state": {
            "_dom_classes": [],
            "_model_module": "@jupyter-widgets/controls",
            "_model_module_version": "1.5.0",
            "_model_name": "HTMLModel",
            "_view_count": null,
            "_view_module": "@jupyter-widgets/controls",
            "_view_module_version": "1.5.0",
            "_view_name": "HTMLView",
            "description": "",
            "description_tooltip": null,
            "layout": "IPY_MODEL_62adaf2d825f41859886f4ca648e70cb",
            "placeholder": "​",
            "style": "IPY_MODEL_5fe1cd888288456ea4099a7e749adafe",
            "value": "tokenizer_config.json: 100%"
          }
        },
        "33e0fed25e044743953ba1adf111e27a": {
          "model_module": "@jupyter-widgets/controls",
          "model_name": "FloatProgressModel",
          "model_module_version": "1.5.0",
          "state": {
            "_dom_classes": [],
            "_model_module": "@jupyter-widgets/controls",
            "_model_module_version": "1.5.0",
            "_model_name": "FloatProgressModel",
            "_view_count": null,
            "_view_module": "@jupyter-widgets/controls",
            "_view_module_version": "1.5.0",
            "_view_name": "ProgressView",
            "bar_style": "success",
            "description": "",
            "description_tooltip": null,
            "layout": "IPY_MODEL_d8d798dfb7f343859ee7031c872a78e6",
            "max": 42,
            "min": 0,
            "orientation": "horizontal",
            "style": "IPY_MODEL_54dedc7aaf844a8aa6e06d7236513195",
            "value": 42
          }
        },
        "77b23c45c9184bf68b59ef8d58c05a93": {
          "model_module": "@jupyter-widgets/controls",
          "model_name": "HTMLModel",
          "model_module_version": "1.5.0",
          "state": {
            "_dom_classes": [],
            "_model_module": "@jupyter-widgets/controls",
            "_model_module_version": "1.5.0",
            "_model_name": "HTMLModel",
            "_view_count": null,
            "_view_module": "@jupyter-widgets/controls",
            "_view_module_version": "1.5.0",
            "_view_name": "HTMLView",
            "description": "",
            "description_tooltip": null,
            "layout": "IPY_MODEL_22775d3e711240d0a2b2fe7b40a9f6d7",
            "placeholder": "​",
            "style": "IPY_MODEL_ca96f4f4c8dd40089697bb717146c0a0",
            "value": " 42.0/42.0 [00:00&lt;00:00, 5.28kB/s]"
          }
        },
        "4d6b598a06624872be54fa467e7fac9e": {
          "model_module": "@jupyter-widgets/base",
          "model_name": "LayoutModel",
          "model_module_version": "1.2.0",
          "state": {
            "_model_module": "@jupyter-widgets/base",
            "_model_module_version": "1.2.0",
            "_model_name": "LayoutModel",
            "_view_count": null,
            "_view_module": "@jupyter-widgets/base",
            "_view_module_version": "1.2.0",
            "_view_name": "LayoutView",
            "align_content": null,
            "align_items": null,
            "align_self": null,
            "border": null,
            "bottom": null,
            "display": null,
            "flex": null,
            "flex_flow": null,
            "grid_area": null,
            "grid_auto_columns": null,
            "grid_auto_flow": null,
            "grid_auto_rows": null,
            "grid_column": null,
            "grid_gap": null,
            "grid_row": null,
            "grid_template_areas": null,
            "grid_template_columns": null,
            "grid_template_rows": null,
            "height": null,
            "justify_content": null,
            "justify_items": null,
            "left": null,
            "margin": null,
            "max_height": null,
            "max_width": null,
            "min_height": null,
            "min_width": null,
            "object_fit": null,
            "object_position": null,
            "order": null,
            "overflow": null,
            "overflow_x": null,
            "overflow_y": null,
            "padding": null,
            "right": null,
            "top": null,
            "visibility": null,
            "width": null
          }
        },
        "62adaf2d825f41859886f4ca648e70cb": {
          "model_module": "@jupyter-widgets/base",
          "model_name": "LayoutModel",
          "model_module_version": "1.2.0",
          "state": {
            "_model_module": "@jupyter-widgets/base",
            "_model_module_version": "1.2.0",
            "_model_name": "LayoutModel",
            "_view_count": null,
            "_view_module": "@jupyter-widgets/base",
            "_view_module_version": "1.2.0",
            "_view_name": "LayoutView",
            "align_content": null,
            "align_items": null,
            "align_self": null,
            "border": null,
            "bottom": null,
            "display": null,
            "flex": null,
            "flex_flow": null,
            "grid_area": null,
            "grid_auto_columns": null,
            "grid_auto_flow": null,
            "grid_auto_rows": null,
            "grid_column": null,
            "grid_gap": null,
            "grid_row": null,
            "grid_template_areas": null,
            "grid_template_columns": null,
            "grid_template_rows": null,
            "height": null,
            "justify_content": null,
            "justify_items": null,
            "left": null,
            "margin": null,
            "max_height": null,
            "max_width": null,
            "min_height": null,
            "min_width": null,
            "object_fit": null,
            "object_position": null,
            "order": null,
            "overflow": null,
            "overflow_x": null,
            "overflow_y": null,
            "padding": null,
            "right": null,
            "top": null,
            "visibility": null,
            "width": null
          }
        },
        "5fe1cd888288456ea4099a7e749adafe": {
          "model_module": "@jupyter-widgets/controls",
          "model_name": "DescriptionStyleModel",
          "model_module_version": "1.5.0",
          "state": {
            "_model_module": "@jupyter-widgets/controls",
            "_model_module_version": "1.5.0",
            "_model_name": "DescriptionStyleModel",
            "_view_count": null,
            "_view_module": "@jupyter-widgets/base",
            "_view_module_version": "1.2.0",
            "_view_name": "StyleView",
            "description_width": ""
          }
        },
        "d8d798dfb7f343859ee7031c872a78e6": {
          "model_module": "@jupyter-widgets/base",
          "model_name": "LayoutModel",
          "model_module_version": "1.2.0",
          "state": {
            "_model_module": "@jupyter-widgets/base",
            "_model_module_version": "1.2.0",
            "_model_name": "LayoutModel",
            "_view_count": null,
            "_view_module": "@jupyter-widgets/base",
            "_view_module_version": "1.2.0",
            "_view_name": "LayoutView",
            "align_content": null,
            "align_items": null,
            "align_self": null,
            "border": null,
            "bottom": null,
            "display": null,
            "flex": null,
            "flex_flow": null,
            "grid_area": null,
            "grid_auto_columns": null,
            "grid_auto_flow": null,
            "grid_auto_rows": null,
            "grid_column": null,
            "grid_gap": null,
            "grid_row": null,
            "grid_template_areas": null,
            "grid_template_columns": null,
            "grid_template_rows": null,
            "height": null,
            "justify_content": null,
            "justify_items": null,
            "left": null,
            "margin": null,
            "max_height": null,
            "max_width": null,
            "min_height": null,
            "min_width": null,
            "object_fit": null,
            "object_position": null,
            "order": null,
            "overflow": null,
            "overflow_x": null,
            "overflow_y": null,
            "padding": null,
            "right": null,
            "top": null,
            "visibility": null,
            "width": null
          }
        },
        "54dedc7aaf844a8aa6e06d7236513195": {
          "model_module": "@jupyter-widgets/controls",
          "model_name": "ProgressStyleModel",
          "model_module_version": "1.5.0",
          "state": {
            "_model_module": "@jupyter-widgets/controls",
            "_model_module_version": "1.5.0",
            "_model_name": "ProgressStyleModel",
            "_view_count": null,
            "_view_module": "@jupyter-widgets/base",
            "_view_module_version": "1.2.0",
            "_view_name": "StyleView",
            "bar_color": null,
            "description_width": ""
          }
        },
        "22775d3e711240d0a2b2fe7b40a9f6d7": {
          "model_module": "@jupyter-widgets/base",
          "model_name": "LayoutModel",
          "model_module_version": "1.2.0",
          "state": {
            "_model_module": "@jupyter-widgets/base",
            "_model_module_version": "1.2.0",
            "_model_name": "LayoutModel",
            "_view_count": null,
            "_view_module": "@jupyter-widgets/base",
            "_view_module_version": "1.2.0",
            "_view_name": "LayoutView",
            "align_content": null,
            "align_items": null,
            "align_self": null,
            "border": null,
            "bottom": null,
            "display": null,
            "flex": null,
            "flex_flow": null,
            "grid_area": null,
            "grid_auto_columns": null,
            "grid_auto_flow": null,
            "grid_auto_rows": null,
            "grid_column": null,
            "grid_gap": null,
            "grid_row": null,
            "grid_template_areas": null,
            "grid_template_columns": null,
            "grid_template_rows": null,
            "height": null,
            "justify_content": null,
            "justify_items": null,
            "left": null,
            "margin": null,
            "max_height": null,
            "max_width": null,
            "min_height": null,
            "min_width": null,
            "object_fit": null,
            "object_position": null,
            "order": null,
            "overflow": null,
            "overflow_x": null,
            "overflow_y": null,
            "padding": null,
            "right": null,
            "top": null,
            "visibility": null,
            "width": null
          }
        },
        "ca96f4f4c8dd40089697bb717146c0a0": {
          "model_module": "@jupyter-widgets/controls",
          "model_name": "DescriptionStyleModel",
          "model_module_version": "1.5.0",
          "state": {
            "_model_module": "@jupyter-widgets/controls",
            "_model_module_version": "1.5.0",
            "_model_name": "DescriptionStyleModel",
            "_view_count": null,
            "_view_module": "@jupyter-widgets/base",
            "_view_module_version": "1.2.0",
            "_view_name": "StyleView",
            "description_width": ""
          }
        },
        "e9b6e1a0cc9d44b8b35c8a6be7e262cc": {
          "model_module": "@jupyter-widgets/controls",
          "model_name": "HBoxModel",
          "model_module_version": "1.5.0",
          "state": {
            "_dom_classes": [],
            "_model_module": "@jupyter-widgets/controls",
            "_model_module_version": "1.5.0",
            "_model_name": "HBoxModel",
            "_view_count": null,
            "_view_module": "@jupyter-widgets/controls",
            "_view_module_version": "1.5.0",
            "_view_name": "HBoxView",
            "box_style": "",
            "children": [
              "IPY_MODEL_f7876406646e43438f4fcf971064f52d",
              "IPY_MODEL_45a4bfe47a964697a3d615c90fb5f0c0",
              "IPY_MODEL_cfe61a7952864660ab90b7263e9efe15"
            ],
            "layout": "IPY_MODEL_a1b8ab03885c488f8d03c62c3bc5a2d1"
          }
        },
        "f7876406646e43438f4fcf971064f52d": {
          "model_module": "@jupyter-widgets/controls",
          "model_name": "HTMLModel",
          "model_module_version": "1.5.0",
          "state": {
            "_dom_classes": [],
            "_model_module": "@jupyter-widgets/controls",
            "_model_module_version": "1.5.0",
            "_model_name": "HTMLModel",
            "_view_count": null,
            "_view_module": "@jupyter-widgets/controls",
            "_view_module_version": "1.5.0",
            "_view_name": "HTMLView",
            "description": "",
            "description_tooltip": null,
            "layout": "IPY_MODEL_b4c4af83e8ba4ae2af5e331f909c3014",
            "placeholder": "​",
            "style": "IPY_MODEL_fc2eec8c8d834198977c2954dbcf870f",
            "value": "config.json: "
          }
        },
        "45a4bfe47a964697a3d615c90fb5f0c0": {
          "model_module": "@jupyter-widgets/controls",
          "model_name": "FloatProgressModel",
          "model_module_version": "1.5.0",
          "state": {
            "_dom_classes": [],
            "_model_module": "@jupyter-widgets/controls",
            "_model_module_version": "1.5.0",
            "_model_name": "FloatProgressModel",
            "_view_count": null,
            "_view_module": "@jupyter-widgets/controls",
            "_view_module_version": "1.5.0",
            "_view_name": "ProgressView",
            "bar_style": "success",
            "description": "",
            "description_tooltip": null,
            "layout": "IPY_MODEL_52a92b87f6944a44a3cee59df09f42c8",
            "max": 1,
            "min": 0,
            "orientation": "horizontal",
            "style": "IPY_MODEL_74afe51f38864c5aae987cee15dd9b7d",
            "value": 1
          }
        },
        "cfe61a7952864660ab90b7263e9efe15": {
          "model_module": "@jupyter-widgets/controls",
          "model_name": "HTMLModel",
          "model_module_version": "1.5.0",
          "state": {
            "_dom_classes": [],
            "_model_module": "@jupyter-widgets/controls",
            "_model_module_version": "1.5.0",
            "_model_name": "HTMLModel",
            "_view_count": null,
            "_view_module": "@jupyter-widgets/controls",
            "_view_module_version": "1.5.0",
            "_view_name": "HTMLView",
            "description": "",
            "description_tooltip": null,
            "layout": "IPY_MODEL_27abfeb201e2436b8054db1e947b4ea0",
            "placeholder": "​",
            "style": "IPY_MODEL_2c96f9b136e44ffeb5008724cd8ec6b1",
            "value": " 1.01k/? [00:00&lt;00:00, 117kB/s]"
          }
        },
        "a1b8ab03885c488f8d03c62c3bc5a2d1": {
          "model_module": "@jupyter-widgets/base",
          "model_name": "LayoutModel",
          "model_module_version": "1.2.0",
          "state": {
            "_model_module": "@jupyter-widgets/base",
            "_model_module_version": "1.2.0",
            "_model_name": "LayoutModel",
            "_view_count": null,
            "_view_module": "@jupyter-widgets/base",
            "_view_module_version": "1.2.0",
            "_view_name": "LayoutView",
            "align_content": null,
            "align_items": null,
            "align_self": null,
            "border": null,
            "bottom": null,
            "display": null,
            "flex": null,
            "flex_flow": null,
            "grid_area": null,
            "grid_auto_columns": null,
            "grid_auto_flow": null,
            "grid_auto_rows": null,
            "grid_column": null,
            "grid_gap": null,
            "grid_row": null,
            "grid_template_areas": null,
            "grid_template_columns": null,
            "grid_template_rows": null,
            "height": null,
            "justify_content": null,
            "justify_items": null,
            "left": null,
            "margin": null,
            "max_height": null,
            "max_width": null,
            "min_height": null,
            "min_width": null,
            "object_fit": null,
            "object_position": null,
            "order": null,
            "overflow": null,
            "overflow_x": null,
            "overflow_y": null,
            "padding": null,
            "right": null,
            "top": null,
            "visibility": null,
            "width": null
          }
        },
        "b4c4af83e8ba4ae2af5e331f909c3014": {
          "model_module": "@jupyter-widgets/base",
          "model_name": "LayoutModel",
          "model_module_version": "1.2.0",
          "state": {
            "_model_module": "@jupyter-widgets/base",
            "_model_module_version": "1.2.0",
            "_model_name": "LayoutModel",
            "_view_count": null,
            "_view_module": "@jupyter-widgets/base",
            "_view_module_version": "1.2.0",
            "_view_name": "LayoutView",
            "align_content": null,
            "align_items": null,
            "align_self": null,
            "border": null,
            "bottom": null,
            "display": null,
            "flex": null,
            "flex_flow": null,
            "grid_area": null,
            "grid_auto_columns": null,
            "grid_auto_flow": null,
            "grid_auto_rows": null,
            "grid_column": null,
            "grid_gap": null,
            "grid_row": null,
            "grid_template_areas": null,
            "grid_template_columns": null,
            "grid_template_rows": null,
            "height": null,
            "justify_content": null,
            "justify_items": null,
            "left": null,
            "margin": null,
            "max_height": null,
            "max_width": null,
            "min_height": null,
            "min_width": null,
            "object_fit": null,
            "object_position": null,
            "order": null,
            "overflow": null,
            "overflow_x": null,
            "overflow_y": null,
            "padding": null,
            "right": null,
            "top": null,
            "visibility": null,
            "width": null
          }
        },
        "fc2eec8c8d834198977c2954dbcf870f": {
          "model_module": "@jupyter-widgets/controls",
          "model_name": "DescriptionStyleModel",
          "model_module_version": "1.5.0",
          "state": {
            "_model_module": "@jupyter-widgets/controls",
            "_model_module_version": "1.5.0",
            "_model_name": "DescriptionStyleModel",
            "_view_count": null,
            "_view_module": "@jupyter-widgets/base",
            "_view_module_version": "1.2.0",
            "_view_name": "StyleView",
            "description_width": ""
          }
        },
        "52a92b87f6944a44a3cee59df09f42c8": {
          "model_module": "@jupyter-widgets/base",
          "model_name": "LayoutModel",
          "model_module_version": "1.2.0",
          "state": {
            "_model_module": "@jupyter-widgets/base",
            "_model_module_version": "1.2.0",
            "_model_name": "LayoutModel",
            "_view_count": null,
            "_view_module": "@jupyter-widgets/base",
            "_view_module_version": "1.2.0",
            "_view_name": "LayoutView",
            "align_content": null,
            "align_items": null,
            "align_self": null,
            "border": null,
            "bottom": null,
            "display": null,
            "flex": null,
            "flex_flow": null,
            "grid_area": null,
            "grid_auto_columns": null,
            "grid_auto_flow": null,
            "grid_auto_rows": null,
            "grid_column": null,
            "grid_gap": null,
            "grid_row": null,
            "grid_template_areas": null,
            "grid_template_columns": null,
            "grid_template_rows": null,
            "height": null,
            "justify_content": null,
            "justify_items": null,
            "left": null,
            "margin": null,
            "max_height": null,
            "max_width": null,
            "min_height": null,
            "min_width": null,
            "object_fit": null,
            "object_position": null,
            "order": null,
            "overflow": null,
            "overflow_x": null,
            "overflow_y": null,
            "padding": null,
            "right": null,
            "top": null,
            "visibility": null,
            "width": "20px"
          }
        },
        "74afe51f38864c5aae987cee15dd9b7d": {
          "model_module": "@jupyter-widgets/controls",
          "model_name": "ProgressStyleModel",
          "model_module_version": "1.5.0",
          "state": {
            "_model_module": "@jupyter-widgets/controls",
            "_model_module_version": "1.5.0",
            "_model_name": "ProgressStyleModel",
            "_view_count": null,
            "_view_module": "@jupyter-widgets/base",
            "_view_module_version": "1.2.0",
            "_view_name": "StyleView",
            "bar_color": null,
            "description_width": ""
          }
        },
        "27abfeb201e2436b8054db1e947b4ea0": {
          "model_module": "@jupyter-widgets/base",
          "model_name": "LayoutModel",
          "model_module_version": "1.2.0",
          "state": {
            "_model_module": "@jupyter-widgets/base",
            "_model_module_version": "1.2.0",
            "_model_name": "LayoutModel",
            "_view_count": null,
            "_view_module": "@jupyter-widgets/base",
            "_view_module_version": "1.2.0",
            "_view_name": "LayoutView",
            "align_content": null,
            "align_items": null,
            "align_self": null,
            "border": null,
            "bottom": null,
            "display": null,
            "flex": null,
            "flex_flow": null,
            "grid_area": null,
            "grid_auto_columns": null,
            "grid_auto_flow": null,
            "grid_auto_rows": null,
            "grid_column": null,
            "grid_gap": null,
            "grid_row": null,
            "grid_template_areas": null,
            "grid_template_columns": null,
            "grid_template_rows": null,
            "height": null,
            "justify_content": null,
            "justify_items": null,
            "left": null,
            "margin": null,
            "max_height": null,
            "max_width": null,
            "min_height": null,
            "min_width": null,
            "object_fit": null,
            "object_position": null,
            "order": null,
            "overflow": null,
            "overflow_x": null,
            "overflow_y": null,
            "padding": null,
            "right": null,
            "top": null,
            "visibility": null,
            "width": null
          }
        },
        "2c96f9b136e44ffeb5008724cd8ec6b1": {
          "model_module": "@jupyter-widgets/controls",
          "model_name": "DescriptionStyleModel",
          "model_module_version": "1.5.0",
          "state": {
            "_model_module": "@jupyter-widgets/controls",
            "_model_module_version": "1.5.0",
            "_model_name": "DescriptionStyleModel",
            "_view_count": null,
            "_view_module": "@jupyter-widgets/base",
            "_view_module_version": "1.2.0",
            "_view_name": "StyleView",
            "description_width": ""
          }
        },
        "fc1c286c8e8141ccb6493c1cf61c2ec8": {
          "model_module": "@jupyter-widgets/controls",
          "model_name": "HBoxModel",
          "model_module_version": "1.5.0",
          "state": {
            "_dom_classes": [],
            "_model_module": "@jupyter-widgets/controls",
            "_model_module_version": "1.5.0",
            "_model_name": "HBoxModel",
            "_view_count": null,
            "_view_module": "@jupyter-widgets/controls",
            "_view_module_version": "1.5.0",
            "_view_name": "HBoxView",
            "box_style": "",
            "children": [
              "IPY_MODEL_7c2741c953504531be1daba8d24ef5d0",
              "IPY_MODEL_ba78ef346cfe4692a659046a3ac30be7",
              "IPY_MODEL_1a1714b5c58a49d887649857a376a27d"
            ],
            "layout": "IPY_MODEL_5746d98b11614a718b507bb11cc03440"
          }
        },
        "7c2741c953504531be1daba8d24ef5d0": {
          "model_module": "@jupyter-widgets/controls",
          "model_name": "HTMLModel",
          "model_module_version": "1.5.0",
          "state": {
            "_dom_classes": [],
            "_model_module": "@jupyter-widgets/controls",
            "_model_module_version": "1.5.0",
            "_model_name": "HTMLModel",
            "_view_count": null,
            "_view_module": "@jupyter-widgets/controls",
            "_view_module_version": "1.5.0",
            "_view_name": "HTMLView",
            "description": "",
            "description_tooltip": null,
            "layout": "IPY_MODEL_f9fee79012a345678ec19202f84d3db4",
            "placeholder": "​",
            "style": "IPY_MODEL_7335482e37434f25a1be4d04c616f356",
            "value": "vocab.txt: "
          }
        },
        "ba78ef346cfe4692a659046a3ac30be7": {
          "model_module": "@jupyter-widgets/controls",
          "model_name": "FloatProgressModel",
          "model_module_version": "1.5.0",
          "state": {
            "_dom_classes": [],
            "_model_module": "@jupyter-widgets/controls",
            "_model_module_version": "1.5.0",
            "_model_name": "FloatProgressModel",
            "_view_count": null,
            "_view_module": "@jupyter-widgets/controls",
            "_view_module_version": "1.5.0",
            "_view_name": "ProgressView",
            "bar_style": "success",
            "description": "",
            "description_tooltip": null,
            "layout": "IPY_MODEL_87fa49f08d3e47f4af7eb8fa57b5775d",
            "max": 1,
            "min": 0,
            "orientation": "horizontal",
            "style": "IPY_MODEL_72e45899ad534b5d9520b3bf5b80f120",
            "value": 1
          }
        },
        "1a1714b5c58a49d887649857a376a27d": {
          "model_module": "@jupyter-widgets/controls",
          "model_name": "HTMLModel",
          "model_module_version": "1.5.0",
          "state": {
            "_dom_classes": [],
            "_model_module": "@jupyter-widgets/controls",
            "_model_module_version": "1.5.0",
            "_model_name": "HTMLModel",
            "_view_count": null,
            "_view_module": "@jupyter-widgets/controls",
            "_view_module_version": "1.5.0",
            "_view_name": "HTMLView",
            "description": "",
            "description_tooltip": null,
            "layout": "IPY_MODEL_a6d18d5d764641e481a5c2b9c36cf81a",
            "placeholder": "​",
            "style": "IPY_MODEL_22435e1118354ea1a313b793296ef46a",
            "value": " 234k/? [00:00&lt;00:00, 12.5MB/s]"
          }
        },
        "5746d98b11614a718b507bb11cc03440": {
          "model_module": "@jupyter-widgets/base",
          "model_name": "LayoutModel",
          "model_module_version": "1.2.0",
          "state": {
            "_model_module": "@jupyter-widgets/base",
            "_model_module_version": "1.2.0",
            "_model_name": "LayoutModel",
            "_view_count": null,
            "_view_module": "@jupyter-widgets/base",
            "_view_module_version": "1.2.0",
            "_view_name": "LayoutView",
            "align_content": null,
            "align_items": null,
            "align_self": null,
            "border": null,
            "bottom": null,
            "display": null,
            "flex": null,
            "flex_flow": null,
            "grid_area": null,
            "grid_auto_columns": null,
            "grid_auto_flow": null,
            "grid_auto_rows": null,
            "grid_column": null,
            "grid_gap": null,
            "grid_row": null,
            "grid_template_areas": null,
            "grid_template_columns": null,
            "grid_template_rows": null,
            "height": null,
            "justify_content": null,
            "justify_items": null,
            "left": null,
            "margin": null,
            "max_height": null,
            "max_width": null,
            "min_height": null,
            "min_width": null,
            "object_fit": null,
            "object_position": null,
            "order": null,
            "overflow": null,
            "overflow_x": null,
            "overflow_y": null,
            "padding": null,
            "right": null,
            "top": null,
            "visibility": null,
            "width": null
          }
        },
        "f9fee79012a345678ec19202f84d3db4": {
          "model_module": "@jupyter-widgets/base",
          "model_name": "LayoutModel",
          "model_module_version": "1.2.0",
          "state": {
            "_model_module": "@jupyter-widgets/base",
            "_model_module_version": "1.2.0",
            "_model_name": "LayoutModel",
            "_view_count": null,
            "_view_module": "@jupyter-widgets/base",
            "_view_module_version": "1.2.0",
            "_view_name": "LayoutView",
            "align_content": null,
            "align_items": null,
            "align_self": null,
            "border": null,
            "bottom": null,
            "display": null,
            "flex": null,
            "flex_flow": null,
            "grid_area": null,
            "grid_auto_columns": null,
            "grid_auto_flow": null,
            "grid_auto_rows": null,
            "grid_column": null,
            "grid_gap": null,
            "grid_row": null,
            "grid_template_areas": null,
            "grid_template_columns": null,
            "grid_template_rows": null,
            "height": null,
            "justify_content": null,
            "justify_items": null,
            "left": null,
            "margin": null,
            "max_height": null,
            "max_width": null,
            "min_height": null,
            "min_width": null,
            "object_fit": null,
            "object_position": null,
            "order": null,
            "overflow": null,
            "overflow_x": null,
            "overflow_y": null,
            "padding": null,
            "right": null,
            "top": null,
            "visibility": null,
            "width": null
          }
        },
        "7335482e37434f25a1be4d04c616f356": {
          "model_module": "@jupyter-widgets/controls",
          "model_name": "DescriptionStyleModel",
          "model_module_version": "1.5.0",
          "state": {
            "_model_module": "@jupyter-widgets/controls",
            "_model_module_version": "1.5.0",
            "_model_name": "DescriptionStyleModel",
            "_view_count": null,
            "_view_module": "@jupyter-widgets/base",
            "_view_module_version": "1.2.0",
            "_view_name": "StyleView",
            "description_width": ""
          }
        },
        "87fa49f08d3e47f4af7eb8fa57b5775d": {
          "model_module": "@jupyter-widgets/base",
          "model_name": "LayoutModel",
          "model_module_version": "1.2.0",
          "state": {
            "_model_module": "@jupyter-widgets/base",
            "_model_module_version": "1.2.0",
            "_model_name": "LayoutModel",
            "_view_count": null,
            "_view_module": "@jupyter-widgets/base",
            "_view_module_version": "1.2.0",
            "_view_name": "LayoutView",
            "align_content": null,
            "align_items": null,
            "align_self": null,
            "border": null,
            "bottom": null,
            "display": null,
            "flex": null,
            "flex_flow": null,
            "grid_area": null,
            "grid_auto_columns": null,
            "grid_auto_flow": null,
            "grid_auto_rows": null,
            "grid_column": null,
            "grid_gap": null,
            "grid_row": null,
            "grid_template_areas": null,
            "grid_template_columns": null,
            "grid_template_rows": null,
            "height": null,
            "justify_content": null,
            "justify_items": null,
            "left": null,
            "margin": null,
            "max_height": null,
            "max_width": null,
            "min_height": null,
            "min_width": null,
            "object_fit": null,
            "object_position": null,
            "order": null,
            "overflow": null,
            "overflow_x": null,
            "overflow_y": null,
            "padding": null,
            "right": null,
            "top": null,
            "visibility": null,
            "width": "20px"
          }
        },
        "72e45899ad534b5d9520b3bf5b80f120": {
          "model_module": "@jupyter-widgets/controls",
          "model_name": "ProgressStyleModel",
          "model_module_version": "1.5.0",
          "state": {
            "_model_module": "@jupyter-widgets/controls",
            "_model_module_version": "1.5.0",
            "_model_name": "ProgressStyleModel",
            "_view_count": null,
            "_view_module": "@jupyter-widgets/base",
            "_view_module_version": "1.2.0",
            "_view_name": "StyleView",
            "bar_color": null,
            "description_width": ""
          }
        },
        "a6d18d5d764641e481a5c2b9c36cf81a": {
          "model_module": "@jupyter-widgets/base",
          "model_name": "LayoutModel",
          "model_module_version": "1.2.0",
          "state": {
            "_model_module": "@jupyter-widgets/base",
            "_model_module_version": "1.2.0",
            "_model_name": "LayoutModel",
            "_view_count": null,
            "_view_module": "@jupyter-widgets/base",
            "_view_module_version": "1.2.0",
            "_view_name": "LayoutView",
            "align_content": null,
            "align_items": null,
            "align_self": null,
            "border": null,
            "bottom": null,
            "display": null,
            "flex": null,
            "flex_flow": null,
            "grid_area": null,
            "grid_auto_columns": null,
            "grid_auto_flow": null,
            "grid_auto_rows": null,
            "grid_column": null,
            "grid_gap": null,
            "grid_row": null,
            "grid_template_areas": null,
            "grid_template_columns": null,
            "grid_template_rows": null,
            "height": null,
            "justify_content": null,
            "justify_items": null,
            "left": null,
            "margin": null,
            "max_height": null,
            "max_width": null,
            "min_height": null,
            "min_width": null,
            "object_fit": null,
            "object_position": null,
            "order": null,
            "overflow": null,
            "overflow_x": null,
            "overflow_y": null,
            "padding": null,
            "right": null,
            "top": null,
            "visibility": null,
            "width": null
          }
        },
        "22435e1118354ea1a313b793296ef46a": {
          "model_module": "@jupyter-widgets/controls",
          "model_name": "DescriptionStyleModel",
          "model_module_version": "1.5.0",
          "state": {
            "_model_module": "@jupyter-widgets/controls",
            "_model_module_version": "1.5.0",
            "_model_name": "DescriptionStyleModel",
            "_view_count": null,
            "_view_module": "@jupyter-widgets/base",
            "_view_module_version": "1.2.0",
            "_view_name": "StyleView",
            "description_width": ""
          }
        },
        "7d52ca6705a747c0a4277166f714bb53": {
          "model_module": "@jupyter-widgets/controls",
          "model_name": "HBoxModel",
          "model_module_version": "1.5.0",
          "state": {
            "_dom_classes": [],
            "_model_module": "@jupyter-widgets/controls",
            "_model_module_version": "1.5.0",
            "_model_name": "HBoxModel",
            "_view_count": null,
            "_view_module": "@jupyter-widgets/controls",
            "_view_module_version": "1.5.0",
            "_view_name": "HBoxView",
            "box_style": "",
            "children": [
              "IPY_MODEL_c3e3078fff7842c393bce258d76e0d93",
              "IPY_MODEL_a962e4c241204ad298f91266325cf3d6",
              "IPY_MODEL_7d49f70088504e1abb35bd4abaa209bd"
            ],
            "layout": "IPY_MODEL_3160e20b6afe4f55b65ce33dfea07d4e"
          }
        },
        "c3e3078fff7842c393bce258d76e0d93": {
          "model_module": "@jupyter-widgets/controls",
          "model_name": "HTMLModel",
          "model_module_version": "1.5.0",
          "state": {
            "_dom_classes": [],
            "_model_module": "@jupyter-widgets/controls",
            "_model_module_version": "1.5.0",
            "_model_name": "HTMLModel",
            "_view_count": null,
            "_view_module": "@jupyter-widgets/controls",
            "_view_module_version": "1.5.0",
            "_view_name": "HTMLView",
            "description": "",
            "description_tooltip": null,
            "layout": "IPY_MODEL_460edcb8c5994b5785e108295d907669",
            "placeholder": "​",
            "style": "IPY_MODEL_36beba99f5bb4e51b6705469ae13a375",
            "value": "added_tokens.json: 100%"
          }
        },
        "a962e4c241204ad298f91266325cf3d6": {
          "model_module": "@jupyter-widgets/controls",
          "model_name": "FloatProgressModel",
          "model_module_version": "1.5.0",
          "state": {
            "_dom_classes": [],
            "_model_module": "@jupyter-widgets/controls",
            "_model_module_version": "1.5.0",
            "_model_name": "FloatProgressModel",
            "_view_count": null,
            "_view_module": "@jupyter-widgets/controls",
            "_view_module_version": "1.5.0",
            "_view_name": "ProgressView",
            "bar_style": "success",
            "description": "",
            "description_tooltip": null,
            "layout": "IPY_MODEL_2ad107202c944ef7a4ad1583c655a21f",
            "max": 2,
            "min": 0,
            "orientation": "horizontal",
            "style": "IPY_MODEL_d3154db79413448590ca31d4cc291e57",
            "value": 2
          }
        },
        "7d49f70088504e1abb35bd4abaa209bd": {
          "model_module": "@jupyter-widgets/controls",
          "model_name": "HTMLModel",
          "model_module_version": "1.5.0",
          "state": {
            "_dom_classes": [],
            "_model_module": "@jupyter-widgets/controls",
            "_model_module_version": "1.5.0",
            "_model_name": "HTMLModel",
            "_view_count": null,
            "_view_module": "@jupyter-widgets/controls",
            "_view_module_version": "1.5.0",
            "_view_name": "HTMLView",
            "description": "",
            "description_tooltip": null,
            "layout": "IPY_MODEL_45f6db3a95ae428b9ec9a1bd1c4d6939",
            "placeholder": "​",
            "style": "IPY_MODEL_ae6424610e0a4a8390d14af597c2ea1d",
            "value": " 2.00/2.00 [00:00&lt;00:00, 215B/s]"
          }
        },
        "3160e20b6afe4f55b65ce33dfea07d4e": {
          "model_module": "@jupyter-widgets/base",
          "model_name": "LayoutModel",
          "model_module_version": "1.2.0",
          "state": {
            "_model_module": "@jupyter-widgets/base",
            "_model_module_version": "1.2.0",
            "_model_name": "LayoutModel",
            "_view_count": null,
            "_view_module": "@jupyter-widgets/base",
            "_view_module_version": "1.2.0",
            "_view_name": "LayoutView",
            "align_content": null,
            "align_items": null,
            "align_self": null,
            "border": null,
            "bottom": null,
            "display": null,
            "flex": null,
            "flex_flow": null,
            "grid_area": null,
            "grid_auto_columns": null,
            "grid_auto_flow": null,
            "grid_auto_rows": null,
            "grid_column": null,
            "grid_gap": null,
            "grid_row": null,
            "grid_template_areas": null,
            "grid_template_columns": null,
            "grid_template_rows": null,
            "height": null,
            "justify_content": null,
            "justify_items": null,
            "left": null,
            "margin": null,
            "max_height": null,
            "max_width": null,
            "min_height": null,
            "min_width": null,
            "object_fit": null,
            "object_position": null,
            "order": null,
            "overflow": null,
            "overflow_x": null,
            "overflow_y": null,
            "padding": null,
            "right": null,
            "top": null,
            "visibility": null,
            "width": null
          }
        },
        "460edcb8c5994b5785e108295d907669": {
          "model_module": "@jupyter-widgets/base",
          "model_name": "LayoutModel",
          "model_module_version": "1.2.0",
          "state": {
            "_model_module": "@jupyter-widgets/base",
            "_model_module_version": "1.2.0",
            "_model_name": "LayoutModel",
            "_view_count": null,
            "_view_module": "@jupyter-widgets/base",
            "_view_module_version": "1.2.0",
            "_view_name": "LayoutView",
            "align_content": null,
            "align_items": null,
            "align_self": null,
            "border": null,
            "bottom": null,
            "display": null,
            "flex": null,
            "flex_flow": null,
            "grid_area": null,
            "grid_auto_columns": null,
            "grid_auto_flow": null,
            "grid_auto_rows": null,
            "grid_column": null,
            "grid_gap": null,
            "grid_row": null,
            "grid_template_areas": null,
            "grid_template_columns": null,
            "grid_template_rows": null,
            "height": null,
            "justify_content": null,
            "justify_items": null,
            "left": null,
            "margin": null,
            "max_height": null,
            "max_width": null,
            "min_height": null,
            "min_width": null,
            "object_fit": null,
            "object_position": null,
            "order": null,
            "overflow": null,
            "overflow_x": null,
            "overflow_y": null,
            "padding": null,
            "right": null,
            "top": null,
            "visibility": null,
            "width": null
          }
        },
        "36beba99f5bb4e51b6705469ae13a375": {
          "model_module": "@jupyter-widgets/controls",
          "model_name": "DescriptionStyleModel",
          "model_module_version": "1.5.0",
          "state": {
            "_model_module": "@jupyter-widgets/controls",
            "_model_module_version": "1.5.0",
            "_model_name": "DescriptionStyleModel",
            "_view_count": null,
            "_view_module": "@jupyter-widgets/base",
            "_view_module_version": "1.2.0",
            "_view_name": "StyleView",
            "description_width": ""
          }
        },
        "2ad107202c944ef7a4ad1583c655a21f": {
          "model_module": "@jupyter-widgets/base",
          "model_name": "LayoutModel",
          "model_module_version": "1.2.0",
          "state": {
            "_model_module": "@jupyter-widgets/base",
            "_model_module_version": "1.2.0",
            "_model_name": "LayoutModel",
            "_view_count": null,
            "_view_module": "@jupyter-widgets/base",
            "_view_module_version": "1.2.0",
            "_view_name": "LayoutView",
            "align_content": null,
            "align_items": null,
            "align_self": null,
            "border": null,
            "bottom": null,
            "display": null,
            "flex": null,
            "flex_flow": null,
            "grid_area": null,
            "grid_auto_columns": null,
            "grid_auto_flow": null,
            "grid_auto_rows": null,
            "grid_column": null,
            "grid_gap": null,
            "grid_row": null,
            "grid_template_areas": null,
            "grid_template_columns": null,
            "grid_template_rows": null,
            "height": null,
            "justify_content": null,
            "justify_items": null,
            "left": null,
            "margin": null,
            "max_height": null,
            "max_width": null,
            "min_height": null,
            "min_width": null,
            "object_fit": null,
            "object_position": null,
            "order": null,
            "overflow": null,
            "overflow_x": null,
            "overflow_y": null,
            "padding": null,
            "right": null,
            "top": null,
            "visibility": null,
            "width": null
          }
        },
        "d3154db79413448590ca31d4cc291e57": {
          "model_module": "@jupyter-widgets/controls",
          "model_name": "ProgressStyleModel",
          "model_module_version": "1.5.0",
          "state": {
            "_model_module": "@jupyter-widgets/controls",
            "_model_module_version": "1.5.0",
            "_model_name": "ProgressStyleModel",
            "_view_count": null,
            "_view_module": "@jupyter-widgets/base",
            "_view_module_version": "1.2.0",
            "_view_name": "StyleView",
            "bar_color": null,
            "description_width": ""
          }
        },
        "45f6db3a95ae428b9ec9a1bd1c4d6939": {
          "model_module": "@jupyter-widgets/base",
          "model_name": "LayoutModel",
          "model_module_version": "1.2.0",
          "state": {
            "_model_module": "@jupyter-widgets/base",
            "_model_module_version": "1.2.0",
            "_model_name": "LayoutModel",
            "_view_count": null,
            "_view_module": "@jupyter-widgets/base",
            "_view_module_version": "1.2.0",
            "_view_name": "LayoutView",
            "align_content": null,
            "align_items": null,
            "align_self": null,
            "border": null,
            "bottom": null,
            "display": null,
            "flex": null,
            "flex_flow": null,
            "grid_area": null,
            "grid_auto_columns": null,
            "grid_auto_flow": null,
            "grid_auto_rows": null,
            "grid_column": null,
            "grid_gap": null,
            "grid_row": null,
            "grid_template_areas": null,
            "grid_template_columns": null,
            "grid_template_rows": null,
            "height": null,
            "justify_content": null,
            "justify_items": null,
            "left": null,
            "margin": null,
            "max_height": null,
            "max_width": null,
            "min_height": null,
            "min_width": null,
            "object_fit": null,
            "object_position": null,
            "order": null,
            "overflow": null,
            "overflow_x": null,
            "overflow_y": null,
            "padding": null,
            "right": null,
            "top": null,
            "visibility": null,
            "width": null
          }
        },
        "ae6424610e0a4a8390d14af597c2ea1d": {
          "model_module": "@jupyter-widgets/controls",
          "model_name": "DescriptionStyleModel",
          "model_module_version": "1.5.0",
          "state": {
            "_model_module": "@jupyter-widgets/controls",
            "_model_module_version": "1.5.0",
            "_model_name": "DescriptionStyleModel",
            "_view_count": null,
            "_view_module": "@jupyter-widgets/base",
            "_view_module_version": "1.2.0",
            "_view_name": "StyleView",
            "description_width": ""
          }
        },
        "6883460eec544c98a5bfb09c4a6a5b71": {
          "model_module": "@jupyter-widgets/controls",
          "model_name": "HBoxModel",
          "model_module_version": "1.5.0",
          "state": {
            "_dom_classes": [],
            "_model_module": "@jupyter-widgets/controls",
            "_model_module_version": "1.5.0",
            "_model_name": "HBoxModel",
            "_view_count": null,
            "_view_module": "@jupyter-widgets/controls",
            "_view_module_version": "1.5.0",
            "_view_name": "HBoxView",
            "box_style": "",
            "children": [
              "IPY_MODEL_422573f7e9bb465ca2c4b9e2c435818d",
              "IPY_MODEL_8faa5d51ebd84e64bda9e8edb3a63bd7",
              "IPY_MODEL_752a4d9e5a714477b5f0a8ffbf282a24"
            ],
            "layout": "IPY_MODEL_e6ebc881e3a240e7a722e9bc46320a3e"
          }
        },
        "422573f7e9bb465ca2c4b9e2c435818d": {
          "model_module": "@jupyter-widgets/controls",
          "model_name": "HTMLModel",
          "model_module_version": "1.5.0",
          "state": {
            "_dom_classes": [],
            "_model_module": "@jupyter-widgets/controls",
            "_model_module_version": "1.5.0",
            "_model_name": "HTMLModel",
            "_view_count": null,
            "_view_module": "@jupyter-widgets/controls",
            "_view_module_version": "1.5.0",
            "_view_name": "HTMLView",
            "description": "",
            "description_tooltip": null,
            "layout": "IPY_MODEL_140c2bc0ac28483a84bfa64e987cf1e7",
            "placeholder": "​",
            "style": "IPY_MODEL_1fe17b983842494b99d8e1040236c64c",
            "value": "special_tokens_map.json: 100%"
          }
        },
        "8faa5d51ebd84e64bda9e8edb3a63bd7": {
          "model_module": "@jupyter-widgets/controls",
          "model_name": "FloatProgressModel",
          "model_module_version": "1.5.0",
          "state": {
            "_dom_classes": [],
            "_model_module": "@jupyter-widgets/controls",
            "_model_module_version": "1.5.0",
            "_model_name": "FloatProgressModel",
            "_view_count": null,
            "_view_module": "@jupyter-widgets/controls",
            "_view_module_version": "1.5.0",
            "_view_name": "ProgressView",
            "bar_style": "success",
            "description": "",
            "description_tooltip": null,
            "layout": "IPY_MODEL_f831b3b13a634d7fb95222b0cacd0e64",
            "max": 112,
            "min": 0,
            "orientation": "horizontal",
            "style": "IPY_MODEL_fec6cb160ad040f79e12ac11bfd07d7c",
            "value": 112
          }
        },
        "752a4d9e5a714477b5f0a8ffbf282a24": {
          "model_module": "@jupyter-widgets/controls",
          "model_name": "HTMLModel",
          "model_module_version": "1.5.0",
          "state": {
            "_dom_classes": [],
            "_model_module": "@jupyter-widgets/controls",
            "_model_module_version": "1.5.0",
            "_model_name": "HTMLModel",
            "_view_count": null,
            "_view_module": "@jupyter-widgets/controls",
            "_view_module_version": "1.5.0",
            "_view_name": "HTMLView",
            "description": "",
            "description_tooltip": null,
            "layout": "IPY_MODEL_19d93df37e154aa28b7398fb5b453ccb",
            "placeholder": "​",
            "style": "IPY_MODEL_0c8b030ca6f345a1b2bd174d7be2eee2",
            "value": " 112/112 [00:00&lt;00:00, 14.0kB/s]"
          }
        },
        "e6ebc881e3a240e7a722e9bc46320a3e": {
          "model_module": "@jupyter-widgets/base",
          "model_name": "LayoutModel",
          "model_module_version": "1.2.0",
          "state": {
            "_model_module": "@jupyter-widgets/base",
            "_model_module_version": "1.2.0",
            "_model_name": "LayoutModel",
            "_view_count": null,
            "_view_module": "@jupyter-widgets/base",
            "_view_module_version": "1.2.0",
            "_view_name": "LayoutView",
            "align_content": null,
            "align_items": null,
            "align_self": null,
            "border": null,
            "bottom": null,
            "display": null,
            "flex": null,
            "flex_flow": null,
            "grid_area": null,
            "grid_auto_columns": null,
            "grid_auto_flow": null,
            "grid_auto_rows": null,
            "grid_column": null,
            "grid_gap": null,
            "grid_row": null,
            "grid_template_areas": null,
            "grid_template_columns": null,
            "grid_template_rows": null,
            "height": null,
            "justify_content": null,
            "justify_items": null,
            "left": null,
            "margin": null,
            "max_height": null,
            "max_width": null,
            "min_height": null,
            "min_width": null,
            "object_fit": null,
            "object_position": null,
            "order": null,
            "overflow": null,
            "overflow_x": null,
            "overflow_y": null,
            "padding": null,
            "right": null,
            "top": null,
            "visibility": null,
            "width": null
          }
        },
        "140c2bc0ac28483a84bfa64e987cf1e7": {
          "model_module": "@jupyter-widgets/base",
          "model_name": "LayoutModel",
          "model_module_version": "1.2.0",
          "state": {
            "_model_module": "@jupyter-widgets/base",
            "_model_module_version": "1.2.0",
            "_model_name": "LayoutModel",
            "_view_count": null,
            "_view_module": "@jupyter-widgets/base",
            "_view_module_version": "1.2.0",
            "_view_name": "LayoutView",
            "align_content": null,
            "align_items": null,
            "align_self": null,
            "border": null,
            "bottom": null,
            "display": null,
            "flex": null,
            "flex_flow": null,
            "grid_area": null,
            "grid_auto_columns": null,
            "grid_auto_flow": null,
            "grid_auto_rows": null,
            "grid_column": null,
            "grid_gap": null,
            "grid_row": null,
            "grid_template_areas": null,
            "grid_template_columns": null,
            "grid_template_rows": null,
            "height": null,
            "justify_content": null,
            "justify_items": null,
            "left": null,
            "margin": null,
            "max_height": null,
            "max_width": null,
            "min_height": null,
            "min_width": null,
            "object_fit": null,
            "object_position": null,
            "order": null,
            "overflow": null,
            "overflow_x": null,
            "overflow_y": null,
            "padding": null,
            "right": null,
            "top": null,
            "visibility": null,
            "width": null
          }
        },
        "1fe17b983842494b99d8e1040236c64c": {
          "model_module": "@jupyter-widgets/controls",
          "model_name": "DescriptionStyleModel",
          "model_module_version": "1.5.0",
          "state": {
            "_model_module": "@jupyter-widgets/controls",
            "_model_module_version": "1.5.0",
            "_model_name": "DescriptionStyleModel",
            "_view_count": null,
            "_view_module": "@jupyter-widgets/base",
            "_view_module_version": "1.2.0",
            "_view_name": "StyleView",
            "description_width": ""
          }
        },
        "f831b3b13a634d7fb95222b0cacd0e64": {
          "model_module": "@jupyter-widgets/base",
          "model_name": "LayoutModel",
          "model_module_version": "1.2.0",
          "state": {
            "_model_module": "@jupyter-widgets/base",
            "_model_module_version": "1.2.0",
            "_model_name": "LayoutModel",
            "_view_count": null,
            "_view_module": "@jupyter-widgets/base",
            "_view_module_version": "1.2.0",
            "_view_name": "LayoutView",
            "align_content": null,
            "align_items": null,
            "align_self": null,
            "border": null,
            "bottom": null,
            "display": null,
            "flex": null,
            "flex_flow": null,
            "grid_area": null,
            "grid_auto_columns": null,
            "grid_auto_flow": null,
            "grid_auto_rows": null,
            "grid_column": null,
            "grid_gap": null,
            "grid_row": null,
            "grid_template_areas": null,
            "grid_template_columns": null,
            "grid_template_rows": null,
            "height": null,
            "justify_content": null,
            "justify_items": null,
            "left": null,
            "margin": null,
            "max_height": null,
            "max_width": null,
            "min_height": null,
            "min_width": null,
            "object_fit": null,
            "object_position": null,
            "order": null,
            "overflow": null,
            "overflow_x": null,
            "overflow_y": null,
            "padding": null,
            "right": null,
            "top": null,
            "visibility": null,
            "width": null
          }
        },
        "fec6cb160ad040f79e12ac11bfd07d7c": {
          "model_module": "@jupyter-widgets/controls",
          "model_name": "ProgressStyleModel",
          "model_module_version": "1.5.0",
          "state": {
            "_model_module": "@jupyter-widgets/controls",
            "_model_module_version": "1.5.0",
            "_model_name": "ProgressStyleModel",
            "_view_count": null,
            "_view_module": "@jupyter-widgets/base",
            "_view_module_version": "1.2.0",
            "_view_name": "StyleView",
            "bar_color": null,
            "description_width": ""
          }
        },
        "19d93df37e154aa28b7398fb5b453ccb": {
          "model_module": "@jupyter-widgets/base",
          "model_name": "LayoutModel",
          "model_module_version": "1.2.0",
          "state": {
            "_model_module": "@jupyter-widgets/base",
            "_model_module_version": "1.2.0",
            "_model_name": "LayoutModel",
            "_view_count": null,
            "_view_module": "@jupyter-widgets/base",
            "_view_module_version": "1.2.0",
            "_view_name": "LayoutView",
            "align_content": null,
            "align_items": null,
            "align_self": null,
            "border": null,
            "bottom": null,
            "display": null,
            "flex": null,
            "flex_flow": null,
            "grid_area": null,
            "grid_auto_columns": null,
            "grid_auto_flow": null,
            "grid_auto_rows": null,
            "grid_column": null,
            "grid_gap": null,
            "grid_row": null,
            "grid_template_areas": null,
            "grid_template_columns": null,
            "grid_template_rows": null,
            "height": null,
            "justify_content": null,
            "justify_items": null,
            "left": null,
            "margin": null,
            "max_height": null,
            "max_width": null,
            "min_height": null,
            "min_width": null,
            "object_fit": null,
            "object_position": null,
            "order": null,
            "overflow": null,
            "overflow_x": null,
            "overflow_y": null,
            "padding": null,
            "right": null,
            "top": null,
            "visibility": null,
            "width": null
          }
        },
        "0c8b030ca6f345a1b2bd174d7be2eee2": {
          "model_module": "@jupyter-widgets/controls",
          "model_name": "DescriptionStyleModel",
          "model_module_version": "1.5.0",
          "state": {
            "_model_module": "@jupyter-widgets/controls",
            "_model_module_version": "1.5.0",
            "_model_name": "DescriptionStyleModel",
            "_view_count": null,
            "_view_module": "@jupyter-widgets/base",
            "_view_module_version": "1.2.0",
            "_view_name": "StyleView",
            "description_width": ""
          }
        },
        "dd0ec58ab8dc47829256d1e89f1c503c": {
          "model_module": "@jupyter-widgets/controls",
          "model_name": "HBoxModel",
          "model_module_version": "1.5.0",
          "state": {
            "_dom_classes": [],
            "_model_module": "@jupyter-widgets/controls",
            "_model_module_version": "1.5.0",
            "_model_name": "HBoxModel",
            "_view_count": null,
            "_view_module": "@jupyter-widgets/controls",
            "_view_module_version": "1.5.0",
            "_view_name": "HBoxView",
            "box_style": "",
            "children": [
              "IPY_MODEL_4abd59a3102b49418988bd19421143f7",
              "IPY_MODEL_1617bf9d5edf4988bd5daccb41df1b10",
              "IPY_MODEL_b543334697c74c349b215fd5c561a585"
            ],
            "layout": "IPY_MODEL_4b0e07a1d9ab43dcacc6ba889e592d41"
          }
        },
        "4abd59a3102b49418988bd19421143f7": {
          "model_module": "@jupyter-widgets/controls",
          "model_name": "HTMLModel",
          "model_module_version": "1.5.0",
          "state": {
            "_dom_classes": [],
            "_model_module": "@jupyter-widgets/controls",
            "_model_module_version": "1.5.0",
            "_model_name": "HTMLModel",
            "_view_count": null,
            "_view_module": "@jupyter-widgets/controls",
            "_view_module_version": "1.5.0",
            "_view_name": "HTMLView",
            "description": "",
            "description_tooltip": null,
            "layout": "IPY_MODEL_f0548aa76da044ada42c5bf41ec83948",
            "placeholder": "​",
            "style": "IPY_MODEL_d90f785776b340b092aa6ce2ab02afa3",
            "value": "pytorch_model.bin: 100%"
          }
        },
        "1617bf9d5edf4988bd5daccb41df1b10": {
          "model_module": "@jupyter-widgets/controls",
          "model_name": "FloatProgressModel",
          "model_module_version": "1.5.0",
          "state": {
            "_dom_classes": [],
            "_model_module": "@jupyter-widgets/controls",
            "_model_module_version": "1.5.0",
            "_model_name": "FloatProgressModel",
            "_view_count": null,
            "_view_module": "@jupyter-widgets/controls",
            "_view_module_version": "1.5.0",
            "_view_name": "ProgressView",
            "bar_style": "success",
            "description": "",
            "description_tooltip": null,
            "layout": "IPY_MODEL_cf3ceac0a6594bbb8d3ebaa6958c17f0",
            "max": 444780374,
            "min": 0,
            "orientation": "horizontal",
            "style": "IPY_MODEL_b8ca9d06ebe844d8a7225b48ccd6d7be",
            "value": 444780374
          }
        },
        "b543334697c74c349b215fd5c561a585": {
          "model_module": "@jupyter-widgets/controls",
          "model_name": "HTMLModel",
          "model_module_version": "1.5.0",
          "state": {
            "_dom_classes": [],
            "_model_module": "@jupyter-widgets/controls",
            "_model_module_version": "1.5.0",
            "_model_name": "HTMLModel",
            "_view_count": null,
            "_view_module": "@jupyter-widgets/controls",
            "_view_module_version": "1.5.0",
            "_view_name": "HTMLView",
            "description": "",
            "description_tooltip": null,
            "layout": "IPY_MODEL_0cb2794f1c7447aeb468e3b72369eeaa",
            "placeholder": "​",
            "style": "IPY_MODEL_1c98d053bfdc4670999c05bd3bc14abf",
            "value": " 445M/445M [00:04&lt;00:00, 141MB/s]"
          }
        },
        "4b0e07a1d9ab43dcacc6ba889e592d41": {
          "model_module": "@jupyter-widgets/base",
          "model_name": "LayoutModel",
          "model_module_version": "1.2.0",
          "state": {
            "_model_module": "@jupyter-widgets/base",
            "_model_module_version": "1.2.0",
            "_model_name": "LayoutModel",
            "_view_count": null,
            "_view_module": "@jupyter-widgets/base",
            "_view_module_version": "1.2.0",
            "_view_name": "LayoutView",
            "align_content": null,
            "align_items": null,
            "align_self": null,
            "border": null,
            "bottom": null,
            "display": null,
            "flex": null,
            "flex_flow": null,
            "grid_area": null,
            "grid_auto_columns": null,
            "grid_auto_flow": null,
            "grid_auto_rows": null,
            "grid_column": null,
            "grid_gap": null,
            "grid_row": null,
            "grid_template_areas": null,
            "grid_template_columns": null,
            "grid_template_rows": null,
            "height": null,
            "justify_content": null,
            "justify_items": null,
            "left": null,
            "margin": null,
            "max_height": null,
            "max_width": null,
            "min_height": null,
            "min_width": null,
            "object_fit": null,
            "object_position": null,
            "order": null,
            "overflow": null,
            "overflow_x": null,
            "overflow_y": null,
            "padding": null,
            "right": null,
            "top": null,
            "visibility": null,
            "width": null
          }
        },
        "f0548aa76da044ada42c5bf41ec83948": {
          "model_module": "@jupyter-widgets/base",
          "model_name": "LayoutModel",
          "model_module_version": "1.2.0",
          "state": {
            "_model_module": "@jupyter-widgets/base",
            "_model_module_version": "1.2.0",
            "_model_name": "LayoutModel",
            "_view_count": null,
            "_view_module": "@jupyter-widgets/base",
            "_view_module_version": "1.2.0",
            "_view_name": "LayoutView",
            "align_content": null,
            "align_items": null,
            "align_self": null,
            "border": null,
            "bottom": null,
            "display": null,
            "flex": null,
            "flex_flow": null,
            "grid_area": null,
            "grid_auto_columns": null,
            "grid_auto_flow": null,
            "grid_auto_rows": null,
            "grid_column": null,
            "grid_gap": null,
            "grid_row": null,
            "grid_template_areas": null,
            "grid_template_columns": null,
            "grid_template_rows": null,
            "height": null,
            "justify_content": null,
            "justify_items": null,
            "left": null,
            "margin": null,
            "max_height": null,
            "max_width": null,
            "min_height": null,
            "min_width": null,
            "object_fit": null,
            "object_position": null,
            "order": null,
            "overflow": null,
            "overflow_x": null,
            "overflow_y": null,
            "padding": null,
            "right": null,
            "top": null,
            "visibility": null,
            "width": null
          }
        },
        "d90f785776b340b092aa6ce2ab02afa3": {
          "model_module": "@jupyter-widgets/controls",
          "model_name": "DescriptionStyleModel",
          "model_module_version": "1.5.0",
          "state": {
            "_model_module": "@jupyter-widgets/controls",
            "_model_module_version": "1.5.0",
            "_model_name": "DescriptionStyleModel",
            "_view_count": null,
            "_view_module": "@jupyter-widgets/base",
            "_view_module_version": "1.2.0",
            "_view_name": "StyleView",
            "description_width": ""
          }
        },
        "cf3ceac0a6594bbb8d3ebaa6958c17f0": {
          "model_module": "@jupyter-widgets/base",
          "model_name": "LayoutModel",
          "model_module_version": "1.2.0",
          "state": {
            "_model_module": "@jupyter-widgets/base",
            "_model_module_version": "1.2.0",
            "_model_name": "LayoutModel",
            "_view_count": null,
            "_view_module": "@jupyter-widgets/base",
            "_view_module_version": "1.2.0",
            "_view_name": "LayoutView",
            "align_content": null,
            "align_items": null,
            "align_self": null,
            "border": null,
            "bottom": null,
            "display": null,
            "flex": null,
            "flex_flow": null,
            "grid_area": null,
            "grid_auto_columns": null,
            "grid_auto_flow": null,
            "grid_auto_rows": null,
            "grid_column": null,
            "grid_gap": null,
            "grid_row": null,
            "grid_template_areas": null,
            "grid_template_columns": null,
            "grid_template_rows": null,
            "height": null,
            "justify_content": null,
            "justify_items": null,
            "left": null,
            "margin": null,
            "max_height": null,
            "max_width": null,
            "min_height": null,
            "min_width": null,
            "object_fit": null,
            "object_position": null,
            "order": null,
            "overflow": null,
            "overflow_x": null,
            "overflow_y": null,
            "padding": null,
            "right": null,
            "top": null,
            "visibility": null,
            "width": null
          }
        },
        "b8ca9d06ebe844d8a7225b48ccd6d7be": {
          "model_module": "@jupyter-widgets/controls",
          "model_name": "ProgressStyleModel",
          "model_module_version": "1.5.0",
          "state": {
            "_model_module": "@jupyter-widgets/controls",
            "_model_module_version": "1.5.0",
            "_model_name": "ProgressStyleModel",
            "_view_count": null,
            "_view_module": "@jupyter-widgets/base",
            "_view_module_version": "1.2.0",
            "_view_name": "StyleView",
            "bar_color": null,
            "description_width": ""
          }
        },
        "0cb2794f1c7447aeb468e3b72369eeaa": {
          "model_module": "@jupyter-widgets/base",
          "model_name": "LayoutModel",
          "model_module_version": "1.2.0",
          "state": {
            "_model_module": "@jupyter-widgets/base",
            "_model_module_version": "1.2.0",
            "_model_name": "LayoutModel",
            "_view_count": null,
            "_view_module": "@jupyter-widgets/base",
            "_view_module_version": "1.2.0",
            "_view_name": "LayoutView",
            "align_content": null,
            "align_items": null,
            "align_self": null,
            "border": null,
            "bottom": null,
            "display": null,
            "flex": null,
            "flex_flow": null,
            "grid_area": null,
            "grid_auto_columns": null,
            "grid_auto_flow": null,
            "grid_auto_rows": null,
            "grid_column": null,
            "grid_gap": null,
            "grid_row": null,
            "grid_template_areas": null,
            "grid_template_columns": null,
            "grid_template_rows": null,
            "height": null,
            "justify_content": null,
            "justify_items": null,
            "left": null,
            "margin": null,
            "max_height": null,
            "max_width": null,
            "min_height": null,
            "min_width": null,
            "object_fit": null,
            "object_position": null,
            "order": null,
            "overflow": null,
            "overflow_x": null,
            "overflow_y": null,
            "padding": null,
            "right": null,
            "top": null,
            "visibility": null,
            "width": null
          }
        },
        "1c98d053bfdc4670999c05bd3bc14abf": {
          "model_module": "@jupyter-widgets/controls",
          "model_name": "DescriptionStyleModel",
          "model_module_version": "1.5.0",
          "state": {
            "_model_module": "@jupyter-widgets/controls",
            "_model_module_version": "1.5.0",
            "_model_name": "DescriptionStyleModel",
            "_view_count": null,
            "_view_module": "@jupyter-widgets/base",
            "_view_module_version": "1.2.0",
            "_view_name": "StyleView",
            "description_width": ""
          }
        }
      }
    }
  },
  "cells": [
    {
      "cell_type": "markdown",
      "metadata": {
        "id": "view-in-github",
        "colab_type": "text"
      },
      "source": [
        "<a href=\"https://colab.research.google.com/github/marcelinorahul/registlombawebsite/blob/main/S_BERT_KELUHAN_SENTYMEN_GOJEK_PENELITIAN_147_.ipynb\" target=\"_parent\"><img src=\"https://colab.research.google.com/assets/colab-badge.svg\" alt=\"Open In Colab\"/></a>"
      ]
    },
    {
      "cell_type": "code",
      "execution_count": null,
      "metadata": {
        "id": "mcZ37UPJGn9-",
        "outputId": "88da916c-e737-41dd-eed1-4c4f0f914573",
        "colab": {
          "base_uri": "https://localhost:8080/"
        }
      },
      "outputs": [
        {
          "output_type": "stream",
          "name": "stdout",
          "text": [
            "Instalasi selesai\n"
          ]
        }
      ],
      "source": [
        "# Install library yang diperlukan\n",
        "!pip install transformers datasets torch scikit-learn pandas matplotlib seaborn -q\n",
        "\n",
        "print(\"Instalasi selesai\")"
      ]
    },
    {
      "cell_type": "markdown",
      "source": [
        "01. mengimport modul py"
      ],
      "metadata": {
        "id": "noNxwla0O6bW"
      }
    },
    {
      "cell_type": "code",
      "source": [
        "import pandas as pd\n",
        "import numpy as np\n",
        "import re\n",
        "import torch\n",
        "from torch import nn\n",
        "from torch.utils.data import Dataset, DataLoader\n",
        "from torch.optim import AdamW\n",
        "from transformers import AutoTokenizer, AutoModel, get_linear_schedule_with_warmup\n",
        "from sklearn.model_selection import train_test_split\n",
        "from sklearn.metrics import confusion_matrix, classification_report, accuracy_score, precision_recall_fscore_support\n",
        "from sklearn.feature_extraction.text import TfidfVectorizer\n",
        "from sklearn.linear_model import LogisticRegression\n",
        "import matplotlib.pyplot as plt\n",
        "import seaborn as sns\n",
        "import warnings\n",
        "warnings.filterwarnings('ignore')\n",
        "\n",
        "# Set random seed untuk reproducibility\n",
        "SEED = 42\n",
        "np.random.seed(SEED)\n",
        "torch.manual_seed(SEED)\n",
        "if torch.cuda.is_available():\n",
        "    torch.cuda.manual_seed_all(SEED)\n",
        "\n",
        "print(\"Library berhasil di-import\")\n",
        "print(f\"GPU tersedia: {torch.cuda.is_available()}\")\n",
        "if torch.cuda.is_available():\n",
        "    print(f\"GPU Name: {torch.cuda.get_device_name(0)}\")"
      ],
      "metadata": {
        "colab": {
          "base_uri": "https://localhost:8080/"
        },
        "id": "4O7zBwzcEzPC",
        "outputId": "84dbae13-b753-44ea-acf1-37a0f426d3b4"
      },
      "execution_count": null,
      "outputs": [
        {
          "output_type": "stream",
          "name": "stdout",
          "text": [
            "Library berhasil di-import\n",
            "GPU tersedia: True\n",
            "GPU Name: Tesla T4\n"
          ]
        }
      ]
    },
    {
      "cell_type": "markdown",
      "source": [
        "02. import data gojek.csv"
      ],
      "metadata": {
        "id": "n3rl8RFWO-XW"
      }
    },
    {
      "cell_type": "code",
      "source": [
        "from google.colab import files\n",
        "\n",
        "# Upload file CSV\n",
        "uploaded = files.upload()\n",
        "\n",
        "# Ambil nama file\n",
        "file_name = list(uploaded.keys())[0]\n",
        "print(f\"\\nFile berhasil di-upload: {file_name}\")\n",
        "\n",
        "# Load dataset\n",
        "df = pd.read_csv(file_name)\n",
        "\n",
        "# Strip whitespace dari nama kolom\n",
        "df.columns = df.columns.str.strip()\n",
        "\n",
        "print(f\"\\nTotal data: {len(df)}\")\n",
        "print(f\"\\nKolom asli: {df.columns.tolist()}\")\n",
        "\n",
        "# Rename kolom sesuai kebutuhan\n",
        "# score -> rating, content -> review\n",
        "df = df.rename(columns={\n",
        "    'score': 'rating',\n",
        "    'content': 'review'\n",
        "})\n",
        "\n",
        "print(f\"\\nKolom setelah rename: {df.columns.tolist()}\")\n",
        "print(f\"\\nSample 3 baris:\")\n",
        "print(df[['rating', 'review']].head(3))\n",
        "\n",
        "# Cek apakah ada data kosong\n",
        "print(f\"\\nMissing values:\")\n",
        "print(df[['rating', 'review']].isnull().sum())\n",
        "\n",
        "# Drop rows dengan review atau rating kosong\n",
        "df = df.dropna(subset=['rating', 'review']).reset_index(drop=True)\n",
        "\n",
        "print(f\"\\nTotal data setelah drop missing: {len(df)}\")\n",
        "print(\"\\n✓ Dataset siap diproses!\")"
      ],
      "metadata": {
        "colab": {
          "base_uri": "https://localhost:8080/",
          "height": 472
        },
        "id": "P2ikyYGgE04w",
        "outputId": "aaf5d1b9-ca45-4ca9-acc7-20c1ceba1e86"
      },
      "execution_count": null,
      "outputs": [
        {
          "output_type": "display_data",
          "data": {
            "text/plain": [
              "<IPython.core.display.HTML object>"
            ],
            "text/html": [
              "\n",
              "     <input type=\"file\" id=\"files-d974d2d7-bedc-4aca-8775-bf9077fbd5f4\" name=\"files[]\" multiple disabled\n",
              "        style=\"border:none\" />\n",
              "     <output id=\"result-d974d2d7-bedc-4aca-8775-bf9077fbd5f4\">\n",
              "      Upload widget is only available when the cell has been executed in the\n",
              "      current browser session. Please rerun this cell to enable.\n",
              "      </output>\n",
              "      <script>// Copyright 2017 Google LLC\n",
              "//\n",
              "// Licensed under the Apache License, Version 2.0 (the \"License\");\n",
              "// you may not use this file except in compliance with the License.\n",
              "// You may obtain a copy of the License at\n",
              "//\n",
              "//      http://www.apache.org/licenses/LICENSE-2.0\n",
              "//\n",
              "// Unless required by applicable law or agreed to in writing, software\n",
              "// distributed under the License is distributed on an \"AS IS\" BASIS,\n",
              "// WITHOUT WARRANTIES OR CONDITIONS OF ANY KIND, either express or implied.\n",
              "// See the License for the specific language governing permissions and\n",
              "// limitations under the License.\n",
              "\n",
              "/**\n",
              " * @fileoverview Helpers for google.colab Python module.\n",
              " */\n",
              "(function(scope) {\n",
              "function span(text, styleAttributes = {}) {\n",
              "  const element = document.createElement('span');\n",
              "  element.textContent = text;\n",
              "  for (const key of Object.keys(styleAttributes)) {\n",
              "    element.style[key] = styleAttributes[key];\n",
              "  }\n",
              "  return element;\n",
              "}\n",
              "\n",
              "// Max number of bytes which will be uploaded at a time.\n",
              "const MAX_PAYLOAD_SIZE = 100 * 1024;\n",
              "\n",
              "function _uploadFiles(inputId, outputId) {\n",
              "  const steps = uploadFilesStep(inputId, outputId);\n",
              "  const outputElement = document.getElementById(outputId);\n",
              "  // Cache steps on the outputElement to make it available for the next call\n",
              "  // to uploadFilesContinue from Python.\n",
              "  outputElement.steps = steps;\n",
              "\n",
              "  return _uploadFilesContinue(outputId);\n",
              "}\n",
              "\n",
              "// This is roughly an async generator (not supported in the browser yet),\n",
              "// where there are multiple asynchronous steps and the Python side is going\n",
              "// to poll for completion of each step.\n",
              "// This uses a Promise to block the python side on completion of each step,\n",
              "// then passes the result of the previous step as the input to the next step.\n",
              "function _uploadFilesContinue(outputId) {\n",
              "  const outputElement = document.getElementById(outputId);\n",
              "  const steps = outputElement.steps;\n",
              "\n",
              "  const next = steps.next(outputElement.lastPromiseValue);\n",
              "  return Promise.resolve(next.value.promise).then((value) => {\n",
              "    // Cache the last promise value to make it available to the next\n",
              "    // step of the generator.\n",
              "    outputElement.lastPromiseValue = value;\n",
              "    return next.value.response;\n",
              "  });\n",
              "}\n",
              "\n",
              "/**\n",
              " * Generator function which is called between each async step of the upload\n",
              " * process.\n",
              " * @param {string} inputId Element ID of the input file picker element.\n",
              " * @param {string} outputId Element ID of the output display.\n",
              " * @return {!Iterable<!Object>} Iterable of next steps.\n",
              " */\n",
              "function* uploadFilesStep(inputId, outputId) {\n",
              "  const inputElement = document.getElementById(inputId);\n",
              "  inputElement.disabled = false;\n",
              "\n",
              "  const outputElement = document.getElementById(outputId);\n",
              "  outputElement.innerHTML = '';\n",
              "\n",
              "  const pickedPromise = new Promise((resolve) => {\n",
              "    inputElement.addEventListener('change', (e) => {\n",
              "      resolve(e.target.files);\n",
              "    });\n",
              "  });\n",
              "\n",
              "  const cancel = document.createElement('button');\n",
              "  inputElement.parentElement.appendChild(cancel);\n",
              "  cancel.textContent = 'Cancel upload';\n",
              "  const cancelPromise = new Promise((resolve) => {\n",
              "    cancel.onclick = () => {\n",
              "      resolve(null);\n",
              "    };\n",
              "  });\n",
              "\n",
              "  // Wait for the user to pick the files.\n",
              "  const files = yield {\n",
              "    promise: Promise.race([pickedPromise, cancelPromise]),\n",
              "    response: {\n",
              "      action: 'starting',\n",
              "    }\n",
              "  };\n",
              "\n",
              "  cancel.remove();\n",
              "\n",
              "  // Disable the input element since further picks are not allowed.\n",
              "  inputElement.disabled = true;\n",
              "\n",
              "  if (!files) {\n",
              "    return {\n",
              "      response: {\n",
              "        action: 'complete',\n",
              "      }\n",
              "    };\n",
              "  }\n",
              "\n",
              "  for (const file of files) {\n",
              "    const li = document.createElement('li');\n",
              "    li.append(span(file.name, {fontWeight: 'bold'}));\n",
              "    li.append(span(\n",
              "        `(${file.type || 'n/a'}) - ${file.size} bytes, ` +\n",
              "        `last modified: ${\n",
              "            file.lastModifiedDate ? file.lastModifiedDate.toLocaleDateString() :\n",
              "                                    'n/a'} - `));\n",
              "    const percent = span('0% done');\n",
              "    li.appendChild(percent);\n",
              "\n",
              "    outputElement.appendChild(li);\n",
              "\n",
              "    const fileDataPromise = new Promise((resolve) => {\n",
              "      const reader = new FileReader();\n",
              "      reader.onload = (e) => {\n",
              "        resolve(e.target.result);\n",
              "      };\n",
              "      reader.readAsArrayBuffer(file);\n",
              "    });\n",
              "    // Wait for the data to be ready.\n",
              "    let fileData = yield {\n",
              "      promise: fileDataPromise,\n",
              "      response: {\n",
              "        action: 'continue',\n",
              "      }\n",
              "    };\n",
              "\n",
              "    // Use a chunked sending to avoid message size limits. See b/62115660.\n",
              "    let position = 0;\n",
              "    do {\n",
              "      const length = Math.min(fileData.byteLength - position, MAX_PAYLOAD_SIZE);\n",
              "      const chunk = new Uint8Array(fileData, position, length);\n",
              "      position += length;\n",
              "\n",
              "      const base64 = btoa(String.fromCharCode.apply(null, chunk));\n",
              "      yield {\n",
              "        response: {\n",
              "          action: 'append',\n",
              "          file: file.name,\n",
              "          data: base64,\n",
              "        },\n",
              "      };\n",
              "\n",
              "      let percentDone = fileData.byteLength === 0 ?\n",
              "          100 :\n",
              "          Math.round((position / fileData.byteLength) * 100);\n",
              "      percent.textContent = `${percentDone}% done`;\n",
              "\n",
              "    } while (position < fileData.byteLength);\n",
              "  }\n",
              "\n",
              "  // All done.\n",
              "  yield {\n",
              "    response: {\n",
              "      action: 'complete',\n",
              "    }\n",
              "  };\n",
              "}\n",
              "\n",
              "scope.google = scope.google || {};\n",
              "scope.google.colab = scope.google.colab || {};\n",
              "scope.google.colab._files = {\n",
              "  _uploadFiles,\n",
              "  _uploadFilesContinue,\n",
              "};\n",
              "})(self);\n",
              "</script> "
            ]
          },
          "metadata": {}
        },
        {
          "output_type": "stream",
          "name": "stdout",
          "text": [
            "Saving gojek.csv to gojek.csv\n",
            "\n",
            "File berhasil di-upload: gojek.csv\n",
            "\n",
            "Total data: 116017\n",
            "\n",
            "Kolom asli: ['id', 'created_at', 'score', 'content', 'thumbsUpCount']\n",
            "\n",
            "Kolom setelah rename: ['id', 'created_at', 'rating', 'review', 'thumbsUpCount']\n",
            "\n",
            "Sample 3 baris:\n",
            "   rating                                             review\n",
            "0       1  Gojek udah ga kayak dlu. Skrg ongkirnya mahal....\n",
            "1       2  Setelah update jadi ngelag dan banyak bug. Say...\n",
            "2       2  Tolong untuk Go Food, bagian terdekat, enak ya...\n",
            "\n",
            "Missing values:\n",
            "rating    0\n",
            "review    1\n",
            "dtype: int64\n",
            "\n",
            "Total data setelah drop missing: 116016\n",
            "\n",
            "✓ Dataset siap diproses!\n"
          ]
        }
      ]
    },
    {
      "cell_type": "markdown",
      "source": [
        "03. cek pembagian data"
      ],
      "metadata": {
        "id": "QfKr60dUPDRj"
      }
    },
    {
      "cell_type": "code",
      "source": [
        "# Cek distribusi rating\n",
        "print(\"Distribusi Rating:\")\n",
        "rating_dist = df['rating'].value_counts().sort_index()\n",
        "print(rating_dist)\n",
        "\n",
        "# Visualisasi distribusi rating\n",
        "fig, axes = plt.subplots(1, 2, figsize=(14, 5))\n",
        "\n",
        "# Bar chart rating\n",
        "axes[0].bar(rating_dist.index, rating_dist.values, color='steelblue', edgecolor='black')\n",
        "axes[0].set_title('Distribusi Rating Gojek', fontsize=12, fontweight='bold')\n",
        "axes[0].set_xlabel('Rating')\n",
        "axes[0].set_ylabel('Jumlah Review')\n",
        "axes[0].grid(axis='y', alpha=0.3)\n",
        "\n",
        "# Statistik panjang review\n",
        "df['review_length'] = df['review'].astype(str).str.len()\n",
        "axes[1].hist(df['review_length'], bins=50, color='coral', edgecolor='black')\n",
        "axes[1].set_title('Distribusi Panjang Review', fontsize=12, fontweight='bold')\n",
        "axes[1].set_xlabel('Panjang Karakter')\n",
        "axes[1].set_ylabel('Frekuensi')\n",
        "axes[1].grid(axis='y', alpha=0.3)\n",
        "\n",
        "plt.tight_layout()\n",
        "plt.show()\n",
        "\n",
        "print(f\"\\nStatistik panjang review:\")\n",
        "print(df['review_length'].describe())\n",
        "\n",
        "# Cek missing values\n",
        "print(f\"\\nMissing values:\")\n",
        "print(df.isnull().sum())\n",
        "\n",
        "# Drop rows dengan review kosong\n",
        "df = df[df['review'].notna()].reset_index(drop=True)\n",
        "print(f\"\\nTotal data setelah cleaning: {len(df)}\")"
      ],
      "metadata": {
        "id": "tiOIfdmLNvs8",
        "colab": {
          "base_uri": "https://localhost:8080/",
          "height": 916
        },
        "outputId": "99cae256-a50a-4882-e439-291b4f29e9f3"
      },
      "execution_count": null,
      "outputs": [
        {
          "output_type": "stream",
          "name": "stdout",
          "text": [
            "Distribusi Rating:\n",
            "rating\n",
            "1    46612\n",
            "2    10046\n",
            "3    10027\n",
            "4     8324\n",
            "5    41007\n",
            "Name: count, dtype: int64\n"
          ]
        },
        {
          "output_type": "display_data",
          "data": {
            "text/plain": [
              "<Figure size 1400x500 with 2 Axes>"
            ],
            "image/png": "[encoded data removed]"
          },
          "metadata": {}
        },
        {
          "output_type": "stream",
          "name": "stdout",
          "text": [
            "\n",
            "Statistik panjang review:\n",
            "count    116016.000000\n",
            "mean        141.253172\n",
            "std         106.347362\n",
            "min           6.000000\n",
            "25%          65.000000\n",
            "50%         109.000000\n",
            "75%         183.000000\n",
            "max        2129.000000\n",
            "Name: review_length, dtype: float64\n",
            "\n",
            "Missing values:\n",
            "id               0\n",
            "created_at       0\n",
            "rating           0\n",
            "review           0\n",
            "thumbsUpCount    0\n",
            "review_length    0\n",
            "dtype: int64\n",
            "\n",
            "Total data setelah cleaning: 116016\n"
          ]
        }
      ]
    },
    {
      "cell_type": "markdown",
      "source": [
        "04. preprosesing :"
      ],
      "metadata": {
        "id": "7R_zRKDFPHwO"
      }
    },
    {
      "cell_type": "code",
      "source": [
        "from tqdm import tqdm\n",
        "tqdm.pandas()\n",
        "\n",
        "# Fungsi preprocessing untuk membersihkan teks\n",
        "def preprocess_text(text):\n",
        "    # Konversi ke string dan lowercase\n",
        "    text = str(text).lower()\n",
        "\n",
        "    # Hapus URL\n",
        "    text = re.sub(r'http\\S+|www\\S+|https\\S+', '', text)\n",
        "\n",
        "    # Hapus mention dan hashtag\n",
        "    text = re.sub(r'@\\w+|#\\w+', '', text)\n",
        "\n",
        "    # Hapus email\n",
        "    text = re.sub(r'\\S+@\\S+', '', text)\n",
        "\n",
        "    # Dictionary normalisasi slang Indonesia\n",
        "    slang_dict = {\n",
        "        r'\\bga\\b': 'tidak', r'\\bgak\\b': 'tidak', r'\\btdk\\b': 'tidak',\n",
        "        r'\\budh\\b': 'sudah', r'\\budah\\b': 'sudah',\n",
        "        r'\\bcm\\b': 'cuma', r'\\byg\\b': 'yang',\n",
        "        r'\\bkrn\\b': 'karena', r'\\bdr\\b': 'dari',\n",
        "        r'\\baja\\b': 'saja', r'\\bdg\\b': 'dengan',\n",
        "        r'\\btlg\\b': 'tolong', r'\\btq\\b': 'terima kasih',\n",
        "        r'\\btks\\b': 'terima kasih', r'\\bbanget\\b': 'sangat',\n",
        "        r'\\bbgt\\b': 'sangat', r'\\bjg\\b': 'juga',\n",
        "        r'\\bknp\\b': 'kenapa', r'\\bknapa\\b': 'kenapa',\n",
        "        r'\\btrus\\b': 'terus', r'\\bgmn\\b': 'bagaimana',\n",
        "        r'\\bgimana\\b': 'bagaimana', r'\\bjd\\b': 'jadi',\n",
        "        r'\\bgpp\\b': 'tidak apa apa', r'\\bgmana\\b': 'bagaimana',\n",
        "        r'\\btp\\b': 'tetapi', r'\\btpi\\b': 'tetapi',\n",
        "        r'\\borg\\b': 'orang', r'\\bklo\\b': 'kalau',\n",
        "        r'\\bkl\\b': 'kalau', r'\\bsy\\b': 'saya',\n",
        "        r'\\bgw\\b': 'saya', r'\\blu\\b': 'kamu'\n",
        "    }\n",
        "\n",
        "    # Terapkan normalisasi\n",
        "    for slang, formal in slang_dict.items():\n",
        "        text = re.sub(slang, formal, text, flags=re.IGNORECASE)\n",
        "\n",
        "    # Hapus karakter non-alfabet kecuali spasi\n",
        "    text = re.sub(r'[^a-z\\s]', ' ', text)\n",
        "\n",
        "    # Hapus spasi berlebih\n",
        "    text = ' '.join(text.split())\n",
        "\n",
        "    return text\n",
        "\n",
        "# Terapkan preprocessing dengan progress bar\n",
        "print(\"Memproses teks (sabar sayang e)...\")\n",
        "df['review_clean'] = df['review'].progress_apply(preprocess_text)\n",
        "\n",
        "print(\"\\nContoh hasil preprocessing:\")\n",
        "for i in range(3):\n",
        "    print(f\"\\n--- Sample {i+1} ---\")\n",
        "    print(f\"Original: {df['review'].iloc[i][:150]}\")\n",
        "    print(f\"Cleaned:  {df['review_clean'].iloc[i][:150]}\")"
      ],
      "metadata": {
        "id": "Btv6CXn4E41X",
        "colab": {
          "base_uri": "https://localhost:8080/"
        },
        "outputId": "628e6f54-1144-42cc-c27c-b1d3c2dac054"
      },
      "execution_count": null,
      "outputs": [
        {
          "output_type": "stream",
          "name": "stdout",
          "text": [
            "Memproses teks (sabar sayang e)...\n"
          ]
        },
        {
          "output_type": "stream",
          "name": "stderr",
          "text": [
            "100%|██████████| 116016/116016 [00:15<00:00, 7679.71it/s] "
          ]
        },
        {
          "output_type": "stream",
          "name": "stdout",
          "text": [
            "\n",
            "Contoh hasil preprocessing:\n",
            "\n",
            "--- Sample 1 ---\n",
            "Original: Gojek udah ga kayak dlu. Skrg ongkirnya mahal. Ongkir gofood untuk jarak 1 -2km kayak ongkir untuk jarak 7-10km. Trus ditambah ada biaya layanan juga.\n",
            "Cleaned:  gojek sudah tidak kayak dlu skrg ongkirnya mahal ongkir gofood untuk jarak km kayak ongkir untuk jarak km terus ditambah ada biaya layanan juga kalo p\n",
            "\n",
            "--- Sample 2 ---\n",
            "Original: Setelah update jadi ngelag dan banyak bug. Saya tidak bisa menambah alamat baru, setelah di set tidak ada respon dari aplikasi. Saat pesan makanan jug\n",
            "Cleaned:  setelah update jadi ngelag dan banyak bug saya tidak bisa menambah alamat baru setelah di set tidak ada respon dari aplikasi saat pesan makanan juga j\n",
            "\n",
            "--- Sample 3 ---\n",
            "Original: Tolong untuk Go Food, bagian terdekat, enak yang dulu, pakai jarak, jadi bisa tahu resto/makanan terdekat sama jarak nya, kalau yang sekarang pakai 30\n",
            "Cleaned:  tolong untuk go food bagian terdekat enak yang dulu pakai jarak jadi bisa tahu resto makanan terdekat sama jarak nya kalau yang sekarang pakai menit t\n"
          ]
        },
        {
          "output_type": "stream",
          "name": "stderr",
          "text": [
            "\n"
          ]
        }
      ]
    },
    {
      "cell_type": "markdown",
      "source": [
        "05. ubah rating jadi sentymen"
      ],
      "metadata": {
        "id": "tB9YE_8DPLt3"
      }
    },
    {
      "cell_type": "code",
      "source": [
        "# Konversi rating ke sentiment 3 class\n",
        "def rating_to_sentiment(rating):\n",
        "    if rating >= 4:\n",
        "        return 2  # Positive\n",
        "    elif rating == 3:\n",
        "        return 1  # Neutral\n",
        "    else:\n",
        "        return 0  # Negative\n",
        "\n",
        "df['label'] = df['rating'].apply(rating_to_sentiment)\n",
        "\n",
        "# Mapping label ke nama\n",
        "label_names = {0: 'Negative', 1: 'Neutral', 2: 'Positive'}\n",
        "df['sentiment'] = df['label'].map(label_names)\n",
        "\n",
        "# Cek distribusi label\n",
        "print(\"Distribusi Sentiment:\")\n",
        "sentiment_dist = df['sentiment'].value_counts()\n",
        "print(sentiment_dist)\n",
        "\n",
        "# Visualisasi distribusi sentiment\n",
        "plt.figure(figsize=(8, 5))\n",
        "colors = ['#d62728', '#ff7f0e', '#2ca02c']\n",
        "sentiment_dist.plot(kind='bar', color=colors, edgecolor='black')\n",
        "plt.title('Distribusi Sentiment (3 Class)', fontsize=12, fontweight='bold')\n",
        "plt.xlabel('Sentiment')\n",
        "plt.ylabel('Jumlah Review')\n",
        "plt.xticks(rotation=0)\n",
        "plt.grid(axis='y', alpha=0.3)\n",
        "plt.tight_layout()\n",
        "plt.show()\n",
        "\n",
        "# Cek persentase\n",
        "print(\"\\nPersentase per kelas:\")\n",
        "for sentiment, count in sentiment_dist.items():\n",
        "    pct = (count / len(df)) * 100\n",
        "    print(f\"{sentiment}: {count} ({pct:.1f}%)\")"
      ],
      "metadata": {
        "id": "ft2qKqtbE7fc",
        "colab": {
          "base_uri": "https://localhost:8080/",
          "height": 698
        },
        "outputId": "12faf68d-d90b-40e2-f6e5-984aa102f1a2"
      },
      "execution_count": null,
      "outputs": [
        {
          "output_type": "stream",
          "name": "stdout",
          "text": [
            "Distribusi Sentiment:\n",
            "sentiment\n",
            "Negative    56658\n",
            "Positive    49331\n",
            "Neutral     10027\n",
            "Name: count, dtype: int64\n"
          ]
        },
        {
          "output_type": "display_data",
          "data": {
            "text/plain": [
              "<Figure size 800x500 with 1 Axes>"
            ],
            "image/png": "[encoded data removed]"
          },
          "metadata": {}
        },
        {
          "output_type": "stream",
          "name": "stdout",
          "text": [
            "\n",
            "Persentase per kelas:\n",
            "Negative: 56658 (48.8%)\n",
            "Positive: 49331 (42.5%)\n",
            "Neutral: 10027 (8.6%)\n"
          ]
        }
      ]
    },
    {
      "cell_type": "markdown",
      "source": [
        "06. buat dataset pytorch"
      ],
      "metadata": {
        "id": "k5LeMrDQPS_C"
      }
    },
    {
      "cell_type": "code",
      "source": [
        "# Class untuk membuat dataset PyTorch\n",
        "class ReviewDataset(Dataset):\n",
        "    def __init__(self, texts, labels, tokenizer, max_length=256):\n",
        "        self.texts = texts.reset_index(drop=True)\n",
        "        self.labels = labels.reset_index(drop=True)\n",
        "        self.tokenizer = tokenizer\n",
        "        self.max_length = max_length\n",
        "\n",
        "    def __len__(self):\n",
        "        return len(self.texts)\n",
        "\n",
        "    def __getitem__(self, idx):\n",
        "        text = str(self.texts.iloc[idx])\n",
        "        label = self.labels.iloc[idx]\n",
        "\n",
        "        # Tokenize teks dengan BERT tokenizer\n",
        "        encoding = self.tokenizer(\n",
        "            text,\n",
        "            add_special_tokens=True,\n",
        "            max_length=self.max_length,\n",
        "            padding='max_length',\n",
        "            truncation=True,\n",
        "            return_tensors='pt'\n",
        "        )\n",
        "\n",
        "        return {\n",
        "            'input_ids': encoding['input_ids'].flatten(),\n",
        "            'attention_mask': encoding['attention_mask'].flatten(),\n",
        "            'label': torch.tensor(label, dtype=torch.long)\n",
        "        }\n",
        "\n",
        "print(\"Dataset class berhasil didefinisikan\")"
      ],
      "metadata": {
        "id": "MaUQj4PrE9L_",
        "colab": {
          "base_uri": "https://localhost:8080/"
        },
        "outputId": "1d85f031-8ad9-4a00-e005-8be018daf50c"
      },
      "execution_count": null,
      "outputs": [
        {
          "output_type": "stream",
          "name": "stdout",
          "text": [
            "Dataset class berhasil didefinisikan\n"
          ]
        }
      ]
    },
    {
      "cell_type": "markdown",
      "source": [
        "07. split data 70 10 20:"
      ],
      "metadata": {
        "id": "H_oaw4EvPXmk"
      }
    },
    {
      "cell_type": "code",
      "source": [
        "# Split data dengan stratifikasi\n",
        "# 70% train, 10% validation, 20% test\n",
        "\n",
        "# Split pertama: 80% train+val, 20% test\n",
        "X_temp, X_test, y_temp, y_test = train_test_split(\n",
        "    df['review_clean'],\n",
        "    df['label'],\n",
        "    test_size=0.2,\n",
        "    stratify=df['label'],\n",
        "    random_state=SEED\n",
        ")\n",
        "\n",
        "# Split kedua: dari 80% ambil 87.5% untuk train (70% total) dan 12.5% untuk val (10% total)\n",
        "X_train, X_val, y_train, y_val = train_test_split(\n",
        "    X_temp,\n",
        "    y_temp,\n",
        "    test_size=0.125,\n",
        "    stratify=y_temp,\n",
        "    random_state=SEED\n",
        ")\n",
        "\n",
        "print(f\"Data Training: {len(X_train)} samples ({len(X_train)/len(df)*100:.1f}%)\")\n",
        "print(f\"Data Validation: {len(X_val)} samples ({len(X_val)/len(df)*100:.1f}%)\")\n",
        "print(f\"Data Testing: {len(X_test)} samples ({len(X_test)/len(df)*100:.1f}%)\")\n",
        "\n",
        "# Cek distribusi label di setiap split\n",
        "print(\"\\nDistribusi Training:\")\n",
        "print(y_train.value_counts().sort_index())\n",
        "print(\"\\nDistribusi Validation:\")\n",
        "print(y_val.value_counts().sort_index())\n",
        "print(\"\\nDistribusi Testing:\")\n",
        "print(y_test.value_counts().sort_index())"
      ],
      "metadata": {
        "colab": {
          "base_uri": "https://localhost:8080/"
        },
        "id": "qT31cFk9OlFq",
        "outputId": "cc8a7561-d67f-486f-aac1-e78a12f2f443"
      },
      "execution_count": null,
      "outputs": [
        {
          "output_type": "stream",
          "name": "stdout",
          "text": [
            "Data Training: 81210 samples (70.0%)\n",
            "Data Validation: 11602 samples (10.0%)\n",
            "Data Testing: 23204 samples (20.0%)\n",
            "\n",
            "Distribusi Training:\n",
            "label\n",
            "0    39660\n",
            "1     7019\n",
            "2    34531\n",
            "Name: count, dtype: int64\n",
            "\n",
            "Distribusi Validation:\n",
            "label\n",
            "0    5666\n",
            "1    1003\n",
            "2    4933\n",
            "Name: count, dtype: int64\n",
            "\n",
            "Distribusi Testing:\n",
            "label\n",
            "0    11332\n",
            "1     2005\n",
            "2     9867\n",
            "Name: count, dtype: int64\n"
          ]
        }
      ]
    },
    {
      "cell_type": "markdown",
      "source": [
        "08. load indobert tokenizer untuk buat dataloader :"
      ],
      "metadata": {
        "id": "HmI-ZpBwYcSD"
      }
    },
    {
      "cell_type": "code",
      "source": [
        "# Load IndoBERT tokenizer - model terbaik untuk bahasa Indonesia\n",
        "MODEL_NAME = 'indolem/indobert-base-uncased'\n",
        "print(f\"Loading tokenizer: {MODEL_NAME}\")\n",
        "tokenizer = AutoTokenizer.from_pretrained(MODEL_NAME)\n",
        "\n",
        "# Buat dataset untuk train, validation, dan test\n",
        "MAX_LENGTH = 256\n",
        "train_dataset = ReviewDataset(X_train, y_train, tokenizer, max_length=MAX_LENGTH)\n",
        "val_dataset = ReviewDataset(X_val, y_val, tokenizer, max_length=MAX_LENGTH)\n",
        "test_dataset = ReviewDataset(X_test, y_test, tokenizer, max_length=MAX_LENGTH)\n",
        "\n",
        "# Buat DataLoader\n",
        "BATCH_SIZE = 16\n",
        "train_loader = DataLoader(train_dataset, batch_size=BATCH_SIZE, shuffle=True)\n",
        "val_loader = DataLoader(val_dataset, batch_size=BATCH_SIZE, shuffle=False)\n",
        "test_loader = DataLoader(test_dataset, batch_size=BATCH_SIZE, shuffle=False)\n",
        "\n",
        "print(f\"\\nDataLoader berhasil dibuat:\")\n",
        "print(f\"Train batches: {len(train_loader)}\")\n",
        "print(f\"Val batches: {len(val_loader)}\")\n",
        "print(f\"Test batches: {len(test_loader)}\")\n",
        "\n",
        "# Test satu batch\n",
        "sample_batch = next(iter(train_loader))\n",
        "print(f\"\\nSample batch shape:\")\n",
        "print(f\"Input IDs: {sample_batch['input_ids'].shape}\")\n",
        "print(f\"Attention Mask: {sample_batch['attention_mask'].shape}\")\n",
        "print(f\"Labels: {sample_batch['label'].shape}\")"
      ],
      "metadata": {
        "id": "ayr99PXpE-jj",
        "colab": {
          "base_uri": "https://localhost:8080/",
          "height": 368,
          "referenced_widgets": [
            "c3e4fc646c104c28aca0c6ba2515dd4f",
            "c5c1372fcf2540f7af739b45a2817d6b",
            "33e0fed25e044743953ba1adf111e27a",
            "77b23c45c9184bf68b59ef8d58c05a93",
            "4d6b598a06624872be54fa467e7fac9e",
            "62adaf2d825f41859886f4ca648e70cb",
            "5fe1cd888288456ea4099a7e749adafe",
            "d8d798dfb7f343859ee7031c872a78e6",
            "54dedc7aaf844a8aa6e06d7236513195",
            "22775d3e711240d0a2b2fe7b40a9f6d7",
            "ca96f4f4c8dd40089697bb717146c0a0",
            "e9b6e1a0cc9d44b8b35c8a6be7e262cc",
            "f7876406646e43438f4fcf971064f52d",
            "45a4bfe47a964697a3d615c90fb5f0c0",
            "cfe61a7952864660ab90b7263e9efe15",
            "a1b8ab03885c488f8d03c62c3bc5a2d1",
            "b4c4af83e8ba4ae2af5e331f909c3014",
            "fc2eec8c8d834198977c2954dbcf870f",
            "52a92b87f6944a44a3cee59df09f42c8",
            "74afe51f38864c5aae987cee15dd9b7d",
            "27abfeb201e2436b8054db1e947b4ea0",
            "2c96f9b136e44ffeb5008724cd8ec6b1",
            "fc1c286c8e8141ccb6493c1cf61c2ec8",
            "7c2741c953504531be1daba8d24ef5d0",
            "ba78ef346cfe4692a659046a3ac30be7",
            "1a1714b5c58a49d887649857a376a27d",
            "5746d98b11614a718b507bb11cc03440",
            "f9fee79012a345678ec19202f84d3db4",
            "7335482e37434f25a1be4d04c616f356",
            "87fa49f08d3e47f4af7eb8fa57b5775d",
            "72e45899ad534b5d9520b3bf5b80f120",
            "a6d18d5d764641e481a5c2b9c36cf81a",
            "22435e1118354ea1a313b793296ef46a",
            "7d52ca6705a747c0a4277166f714bb53",
            "c3e3078fff7842c393bce258d76e0d93",
            "a962e4c241204ad298f91266325cf3d6",
            "7d49f70088504e1abb35bd4abaa209bd",
            "3160e20b6afe4f55b65ce33dfea07d4e",
            "460edcb8c5994b5785e108295d907669",
            "36beba99f5bb4e51b6705469ae13a375",
            "2ad107202c944ef7a4ad1583c655a21f",
            "d3154db79413448590ca31d4cc291e57",
            "45f6db3a95ae428b9ec9a1bd1c4d6939",
            "ae6424610e0a4a8390d14af597c2ea1d",
            "6883460eec544c98a5bfb09c4a6a5b71",
            "422573f7e9bb465ca2c4b9e2c435818d",
            "8faa5d51ebd84e64bda9e8edb3a63bd7",
            "752a4d9e5a714477b5f0a8ffbf282a24",
            "e6ebc881e3a240e7a722e9bc46320a3e",
            "140c2bc0ac28483a84bfa64e987cf1e7",
            "1fe17b983842494b99d8e1040236c64c",
            "f831b3b13a634d7fb95222b0cacd0e64",
            "fec6cb160ad040f79e12ac11bfd07d7c",
            "19d93df37e154aa28b7398fb5b453ccb",
            "0c8b030ca6f345a1b2bd174d7be2eee2"
          ]
        },
        "outputId": "6fb3de9f-0a69-4661-c19a-1b33504a8ea6"
      },
      "execution_count": null,
      "outputs": [
        {
          "output_type": "stream",
          "name": "stdout",
          "text": [
            "Loading tokenizer: indolem/indobert-base-uncased\n"
          ]
        },
        {
          "output_type": "display_data",
          "data": {
            "text/plain": [
              "tokenizer_config.json:   0%|          | 0.00/42.0 [00:00<?, ?B/s]"
            ],
            "application/vnd.jupyter.widget-view+json": {
              "version_major": 2,
              "version_minor": 0,
              "model_id": "c3e4fc646c104c28aca0c6ba2515dd4f"
            }
          },
          "metadata": {}
        },
        {
          "output_type": "display_data",
          "data": {
            "text/plain": [
              "config.json: 0.00B [00:00, ?B/s]"
            ],
            "application/vnd.jupyter.widget-view+json": {
              "version_major": 2,
              "version_minor": 0,
              "model_id": "e9b6e1a0cc9d44b8b35c8a6be7e262cc"
            }
          },
          "metadata": {}
        },
        {
          "output_type": "display_data",
          "data": {
            "text/plain": [
              "vocab.txt: 0.00B [00:00, ?B/s]"
            ],
            "application/vnd.jupyter.widget-view+json": {
              "version_major": 2,
              "version_minor": 0,
              "model_id": "fc1c286c8e8141ccb6493c1cf61c2ec8"
            }
          },
          "metadata": {}
        },
        {
          "output_type": "display_data",
          "data": {
            "text/plain": [
              "added_tokens.json:   0%|          | 0.00/2.00 [00:00<?, ?B/s]"
            ],
            "application/vnd.jupyter.widget-view+json": {
              "version_major": 2,
              "version_minor": 0,
              "model_id": "7d52ca6705a747c0a4277166f714bb53"
            }
          },
          "metadata": {}
        },
        {
          "output_type": "display_data",
          "data": {
            "text/plain": [
              "special_tokens_map.json:   0%|          | 0.00/112 [00:00<?, ?B/s]"
            ],
            "application/vnd.jupyter.widget-view+json": {
              "version_major": 2,
              "version_minor": 0,
              "model_id": "6883460eec544c98a5bfb09c4a6a5b71"
            }
          },
          "metadata": {}
        },
        {
          "output_type": "stream",
          "name": "stdout",
          "text": [
            "\n",
            "DataLoader berhasil dibuat:\n",
            "Train batches: 5076\n",
            "Val batches: 726\n",
            "Test batches: 1451\n",
            "\n",
            "Sample batch shape:\n",
            "Input IDs: torch.Size([16, 256])\n",
            "Attention Mask: torch.Size([16, 256])\n",
            "Labels: torch.Size([16])\n"
          ]
        }
      ]
    },
    {
      "cell_type": "markdown",
      "source": [
        "9. SBERT dengan mean poling untuk klasifikasi sentimen"
      ],
      "metadata": {
        "id": "nwdLt-UzYqvk"
      }
    },
    {
      "cell_type": "code",
      "source": [
        "# Model Sentence-BERT dengan Mean Pooling untuk klasifikasi sentiment\n",
        "class SentenceBERTClassifier(nn.Module):\n",
        "    def __init__(self, num_classes=3, dropout_rate=0.3):\n",
        "        super(SentenceBERTClassifier, self).__init__()\n",
        "\n",
        "        # Load pretrained IndoBERT\n",
        "        self.bert = AutoModel.from_pretrained(MODEL_NAME)\n",
        "\n",
        "        # Dropout untuk regularisasi\n",
        "        self.dropout = nn.Dropout(dropout_rate)\n",
        "\n",
        "        # Fully connected layer untuk klasifikasi\n",
        "        self.classifier = nn.Linear(768, num_classes)\n",
        "\n",
        "    def mean_pooling(self, token_embeddings, attention_mask):\n",
        "        # Mean pooling: rata-rata semua token embeddings dengan memperhatikan mask\n",
        "        # Ini menghasilkan sentence-level representation yang lebih baik dari CLS token\n",
        "        input_mask_expanded = attention_mask.unsqueeze(-1).expand(token_embeddings.size()).float()\n",
        "        sum_embeddings = torch.sum(token_embeddings * input_mask_expanded, 1)\n",
        "        sum_mask = torch.clamp(input_mask_expanded.sum(1), min=1e-9)\n",
        "        return sum_embeddings / sum_mask\n",
        "\n",
        "    def forward(self, input_ids, attention_mask):\n",
        "        # Forward pass melalui BERT\n",
        "        outputs = self.bert(input_ids=input_ids, attention_mask=attention_mask)\n",
        "\n",
        "        # Ambil hidden states terakhir dari semua token\n",
        "        token_embeddings = outputs.last_hidden_state\n",
        "\n",
        "        # Apply mean pooling untuk mendapat sentence embedding\n",
        "        sentence_embedding = self.mean_pooling(token_embeddings, attention_mask)\n",
        "\n",
        "        # Apply dropout\n",
        "        pooled_output = self.dropout(sentence_embedding)\n",
        "\n",
        "        # Klasifikasi\n",
        "        logits = self.classifier(pooled_output)\n",
        "\n",
        "        return logits\n",
        "\n",
        "print(\"Model Sentence-BERT berhasil didefinisikan\")"
      ],
      "metadata": {
        "id": "Od9UxUhLFBKe",
        "colab": {
          "base_uri": "https://localhost:8080/"
        },
        "outputId": "26af0563-6492-4b57-8e35-4df268971513"
      },
      "execution_count": null,
      "outputs": [
        {
          "output_type": "stream",
          "name": "stdout",
          "text": [
            "Model Sentence-BERT berhasil didefinisikan\n"
          ]
        }
      ]
    },
    {
      "cell_type": "markdown",
      "source": [
        "10. setup device utk training"
      ],
      "metadata": {
        "id": "FVPCUM4lYz3d"
      }
    },
    {
      "cell_type": "code",
      "source": [
        "# Setup device\n",
        "device = torch.device('cuda' if torch.cuda.is_available() else 'cpu')\n",
        "print(f\"Using device: {device}\")\n",
        "\n",
        "# Initialize model\n",
        "model = SentenceBERTClassifier(num_classes=3, dropout_rate=0.3)\n",
        "model = model.to(device)\n",
        "\n",
        "# Hitung jumlah parameter\n",
        "total_params = sum(p.numel() for p in model.parameters())\n",
        "trainable_params = sum(p.numel() for p in model.parameters() if p.requires_grad)\n",
        "print(f\"\\nTotal parameters: {total_params:,}\")\n",
        "print(f\"Trainable parameters: {trainable_params:,}\")\n",
        "\n",
        "# Loss function\n",
        "criterion = nn.CrossEntropyLoss()\n",
        "\n",
        "# Optimizer dengan weight decay untuk regularisasi\n",
        "LEARNING_RATE = 2e-5\n",
        "optimizer = AdamW(model.parameters(), lr=LEARNING_RATE, weight_decay=0.01)\n",
        "\n",
        "# Learning rate scheduler dengan warmup\n",
        "EPOCHS = 2\n",
        "total_steps = len(train_loader) * EPOCHS\n",
        "warmup_steps = int(0.1 * total_steps)\n",
        "scheduler = get_linear_schedule_with_warmup(\n",
        "    optimizer,\n",
        "    num_warmup_steps=warmup_steps,\n",
        "    num_training_steps=total_steps\n",
        ")\n",
        "\n",
        "print(f\"\\nTraining configuration:\")\n",
        "print(f\"Epochs: {EPOCHS}\")\n",
        "print(f\"Batch size: {BATCH_SIZE}\")\n",
        "print(f\"Learning rate: {LEARNING_RATE}\")\n",
        "print(f\"Total training steps: {total_steps}\")\n",
        "print(f\"Warmup steps: {warmup_steps}\")"
      ],
      "metadata": {
        "id": "MSyMdG4dFCm8",
        "colab": {
          "base_uri": "https://localhost:8080/",
          "height": 240,
          "referenced_widgets": [
            "dd0ec58ab8dc47829256d1e89f1c503c",
            "4abd59a3102b49418988bd19421143f7",
            "1617bf9d5edf4988bd5daccb41df1b10",
            "b543334697c74c349b215fd5c561a585",
            "4b0e07a1d9ab43dcacc6ba889e592d41",
            "f0548aa76da044ada42c5bf41ec83948",
            "d90f785776b340b092aa6ce2ab02afa3",
            "cf3ceac0a6594bbb8d3ebaa6958c17f0",
            "b8ca9d06ebe844d8a7225b48ccd6d7be",
            "0cb2794f1c7447aeb468e3b72369eeaa",
            "1c98d053bfdc4670999c05bd3bc14abf"
          ]
        },
        "outputId": "c97a6176-f19e-4e7b-f0ff-f31411051b6d"
      },
      "execution_count": null,
      "outputs": [
        {
          "output_type": "stream",
          "name": "stdout",
          "text": [
            "Using device: cuda\n"
          ]
        },
        {
          "output_type": "display_data",
          "data": {
            "text/plain": [
              "pytorch_model.bin:   0%|          | 0.00/445M [00:00<?, ?B/s]"
            ],
            "application/vnd.jupyter.widget-view+json": {
              "version_major": 2,
              "version_minor": 0,
              "model_id": "dd0ec58ab8dc47829256d1e89f1c503c"
            }
          },
          "metadata": {}
        },
        {
          "output_type": "stream",
          "name": "stdout",
          "text": [
            "\n",
            "Total parameters: 110,560,515\n",
            "Trainable parameters: 110,560,515\n",
            "\n",
            "Training configuration:\n",
            "Epochs: 4\n",
            "Batch size: 16\n",
            "Learning rate: 2e-05\n",
            "Total training steps: 20304\n",
            "Warmup steps: 2030\n"
          ]
        }
      ]
    },
    {
      "cell_type": "markdown",
      "source": [
        "11. training 1 epoch :"
      ],
      "metadata": {
        "id": "N85z2yPrY4Du"
      }
    },
    {
      "cell_type": "code",
      "source": [
        "# Fungsi untuk training satu epoch\n",
        "def train_epoch(model, data_loader, criterion, optimizer, scheduler, device):\n",
        "    model.train()\n",
        "    total_loss = 0\n",
        "    correct_predictions = 0\n",
        "    total_samples = 0\n",
        "\n",
        "    for batch in data_loader:\n",
        "        input_ids = batch['input_ids'].to(device)\n",
        "        attention_mask = batch['attention_mask'].to(device)\n",
        "        labels = batch['label'].to(device)\n",
        "\n",
        "        # Forward pass\n",
        "        outputs = model(input_ids, attention_mask)\n",
        "        loss = criterion(outputs, labels)\n",
        "\n",
        "        # Backward pass\n",
        "        optimizer.zero_grad()\n",
        "        loss.backward()\n",
        "\n",
        "        # Gradient clipping untuk mencegah exploding gradients\n",
        "        torch.nn.utils.clip_grad_norm_(model.parameters(), max_norm=1.0)\n",
        "\n",
        "        optimizer.step()\n",
        "        scheduler.step()\n",
        "\n",
        "        # Hitung akurasi batch\n",
        "        preds = torch.argmax(outputs, dim=1)\n",
        "        correct_predictions += torch.sum(preds == labels).item()\n",
        "        total_samples += labels.size(0)\n",
        "        total_loss += loss.item()\n",
        "\n",
        "    avg_loss = total_loss / len(data_loader)\n",
        "    accuracy = correct_predictions / total_samples\n",
        "\n",
        "    return avg_loss, accuracy\n",
        "\n",
        "# Fungsi untuk evaluasi\n",
        "def eval_model(model, data_loader, criterion, device):\n",
        "    model.eval()\n",
        "    total_loss = 0\n",
        "    correct_predictions = 0\n",
        "    total_samples = 0\n",
        "\n",
        "    with torch.no_grad():\n",
        "        for batch in data_loader:\n",
        "            input_ids = batch['input_ids'].to(device)\n",
        "            attention_mask = batch['attention_mask'].to(device)\n",
        "            labels = batch['label'].to(device)\n",
        "\n",
        "            # Forward pass\n",
        "            outputs = model(input_ids, attention_mask)\n",
        "            loss = criterion(outputs, labels)\n",
        "\n",
        "            # Hitung akurasi batch\n",
        "            preds = torch.argmax(outputs, dim=1)\n",
        "            correct_predictions += torch.sum(preds == labels).item()\n",
        "            total_samples += labels.size(0)\n",
        "            total_loss += loss.item()\n",
        "\n",
        "    avg_loss = total_loss / len(data_loader)\n",
        "    accuracy = correct_predictions / total_samples\n",
        "\n",
        "    return avg_loss, accuracy\n",
        "\n",
        "print(\"Training functions berhasil didefinisikan\")"
      ],
      "metadata": {
        "id": "qeuY-W9LFEc8",
        "colab": {
          "base_uri": "https://localhost:8080/"
        },
        "outputId": "517809cb-4de7-47f3-f523-ee73e270021b"
      },
      "execution_count": null,
      "outputs": [
        {
          "output_type": "stream",
          "name": "stdout",
          "text": [
            "Training functions berhasil didefinisikan\n"
          ]
        }
      ]
    },
    {
      "cell_type": "markdown",
      "source": [
        "12. training model epoch 1:"
      ],
      "metadata": {
        "id": "D8ymj_QJY99W"
      }
    },
    {
      "cell_type": "code",
      "source": [
        "# Training loop dengan tracking metrics\n",
        "print(\"=\"*70)\n",
        "print(\"MEMULAI TRAINING\")\n",
        "print(\"=\"*70)\n",
        "\n",
        "train_losses = []\n",
        "train_accuracies = []\n",
        "val_losses = []\n",
        "val_accuracies = []\n",
        "\n",
        "best_val_loss = float('inf')\n",
        "best_model_state = None\n",
        "\n",
        "for epoch in range(EPOCHS):\n",
        "    print(f\"\\nEpoch {epoch + 1}/{EPOCHS}\")\n",
        "    print(\"-\" * 70)\n",
        "\n",
        "    # Training\n",
        "    train_loss, train_acc = train_epoch(model, train_loader, criterion, optimizer, scheduler, device)\n",
        "    train_losses.append(train_loss)\n",
        "    train_accuracies.append(train_acc)\n",
        "\n",
        "    # Validation\n",
        "    val_loss, val_acc = eval_model(model, val_loader, criterion, device)\n",
        "    val_losses.append(val_loss)\n",
        "    val_accuracies.append(val_acc)\n",
        "\n",
        "    print(f\"Train Loss: {train_loss:.4f} | Train Acc: {train_acc:.4f}\")\n",
        "    print(f\"Val Loss:   {val_loss:.4f} | Val Acc:   {val_acc:.4f}\")\n",
        "\n",
        "    # Save best model berdasarkan validation loss\n",
        "    if val_loss < best_val_loss:\n",
        "        best_val_loss = val_loss\n",
        "        best_model_state = model.state_dict().copy()\n",
        "        print(\">>> Best model saved!\")\n",
        "\n",
        "# Load best model untuk testing\n",
        "model.load_state_dict(best_model_state)\n",
        "print(\"\\n\" + \"=\"*70)\n",
        "print(\"TRAINING SELESAI! Model terbaik berhasil di-load.\")\n",
        "print(\"=\"*70)"
      ],
      "metadata": {
        "id": "Co5JxpRSFGFE",
        "colab": {
          "base_uri": "https://localhost:8080/",
          "height": 644
        },
        "outputId": "65b097e8-1edd-4e97-8b72-8f226a69fbf2"
      },
      "execution_count": null,
      "outputs": [
        {
          "output_type": "stream",
          "name": "stdout",
          "text": [
            "======================================================================\n",
            "MEMULAI TRAINING\n",
            "======================================================================\n",
            "\n",
            "Epoch 1/4\n",
            "----------------------------------------------------------------------\n",
            "Train Loss: 0.5751 | Train Acc: 0.7844\n",
            "Val Loss:   0.4998 | Val Acc:   0.8230\n",
            ">>> Best model saved!\n",
            "\n",
            "Epoch 2/4\n",
            "----------------------------------------------------------------------\n",
            "Train Loss: 0.4810 | Train Acc: 0.8261\n",
            "Val Loss:   0.4827 | Val Acc:   0.8305\n",
            ">>> Best model saved!\n",
            "\n",
            "Epoch 3/4\n",
            "----------------------------------------------------------------------\n"
          ]
        },
        {
          "output_type": "error",
          "ename": "KeyboardInterrupt",
          "evalue": "",
          "traceback": [
            "\u001b[0;31m---------------------------------------------------------------------------\u001b[0m",
            "\u001b[0;31mKeyboardInterrupt\u001b[0m                         Traceback (most recent call last)",
            "\u001b[0;32m/tmp/ipython-input-2634566666.py\u001b[0m in \u001b[0;36m<cell line: 0>\u001b[0;34m()\u001b[0m\n\u001b[1;32m     17\u001b[0m \u001b[0;34m\u001b[0m\u001b[0m\n\u001b[1;32m     18\u001b[0m     \u001b[0;31m# Training\u001b[0m\u001b[0;34m\u001b[0m\u001b[0;34m\u001b[0m\u001b[0m\n\u001b[0;32m---> 19\u001b[0;31m     \u001b[0mtrain_loss\u001b[0m\u001b[0;34m,\u001b[0m \u001b[0mtrain_acc\u001b[0m \u001b[0;34m=\u001b[0m \u001b[0mtrain_epoch\u001b[0m\u001b[0;34m(\u001b[0m\u001b[0mmodel\u001b[0m\u001b[0;34m,\u001b[0m \u001b[0mtrain_loader\u001b[0m\u001b[0;34m,\u001b[0m \u001b[0mcriterion\u001b[0m\u001b[0;34m,\u001b[0m \u001b[0moptimizer\u001b[0m\u001b[0;34m,\u001b[0m \u001b[0mscheduler\u001b[0m\u001b[0;34m,\u001b[0m \u001b[0mdevice\u001b[0m\u001b[0;34m)\u001b[0m\u001b[0;34m\u001b[0m\u001b[0;34m\u001b[0m\u001b[0m\n\u001b[0m\u001b[1;32m     20\u001b[0m     \u001b[0mtrain_losses\u001b[0m\u001b[0;34m.\u001b[0m\u001b[0mappend\u001b[0m\u001b[0;34m(\u001b[0m\u001b[0mtrain_loss\u001b[0m\u001b[0;34m)\u001b[0m\u001b[0;34m\u001b[0m\u001b[0;34m\u001b[0m\u001b[0m\n\u001b[1;32m     21\u001b[0m     \u001b[0mtrain_accuracies\u001b[0m\u001b[0;34m.\u001b[0m\u001b[0mappend\u001b[0m\u001b[0;34m(\u001b[0m\u001b[0mtrain_acc\u001b[0m\u001b[0;34m)\u001b[0m\u001b[0;34m\u001b[0m\u001b[0;34m\u001b[0m\u001b[0m\n",
            "\u001b[0;32m/tmp/ipython-input-3346386861.py\u001b[0m in \u001b[0;36mtrain_epoch\u001b[0;34m(model, data_loader, criterion, optimizer, scheduler, device)\u001b[0m\n\u001b[1;32m     27\u001b[0m         \u001b[0;31m# Hitung akurasi batch\u001b[0m\u001b[0;34m\u001b[0m\u001b[0;34m\u001b[0m\u001b[0m\n\u001b[1;32m     28\u001b[0m         \u001b[0mpreds\u001b[0m \u001b[0;34m=\u001b[0m \u001b[0mtorch\u001b[0m\u001b[0;34m.\u001b[0m\u001b[0margmax\u001b[0m\u001b[0;34m(\u001b[0m\u001b[0moutputs\u001b[0m\u001b[0;34m,\u001b[0m \u001b[0mdim\u001b[0m\u001b[0;34m=\u001b[0m\u001b[0;36m1\u001b[0m\u001b[0;34m)\u001b[0m\u001b[0;34m\u001b[0m\u001b[0;34m\u001b[0m\u001b[0m\n\u001b[0;32m---> 29\u001b[0;31m         \u001b[0mcorrect_predictions\u001b[0m \u001b[0;34m+=\u001b[0m \u001b[0mtorch\u001b[0m\u001b[0;34m.\u001b[0m\u001b[0msum\u001b[0m\u001b[0;34m(\u001b[0m\u001b[0mpreds\u001b[0m \u001b[0;34m==\u001b[0m \u001b[0mlabels\u001b[0m\u001b[0;34m)\u001b[0m\u001b[0;34m.\u001b[0m\u001b[0mitem\u001b[0m\u001b[0;34m(\u001b[0m\u001b[0;34m)\u001b[0m\u001b[0;34m\u001b[0m\u001b[0;34m\u001b[0m\u001b[0m\n\u001b[0m\u001b[1;32m     30\u001b[0m         \u001b[0mtotal_samples\u001b[0m \u001b[0;34m+=\u001b[0m \u001b[0mlabels\u001b[0m\u001b[0;34m.\u001b[0m\u001b[0msize\u001b[0m\u001b[0;34m(\u001b[0m\u001b[0;36m0\u001b[0m\u001b[0;34m)\u001b[0m\u001b[0;34m\u001b[0m\u001b[0;34m\u001b[0m\u001b[0m\n\u001b[1;32m     31\u001b[0m         \u001b[0mtotal_loss\u001b[0m \u001b[0;34m+=\u001b[0m \u001b[0mloss\u001b[0m\u001b[0;34m.\u001b[0m\u001b[0mitem\u001b[0m\u001b[0;34m(\u001b[0m\u001b[0;34m)\u001b[0m\u001b[0;34m\u001b[0m\u001b[0;34m\u001b[0m\u001b[0m\n",
            "\u001b[0;31mKeyboardInterrupt\u001b[0m: "
          ]
        }
      ]
    },
    {
      "cell_type": "markdown",
      "source": [
        "13. visualisasi hasil training :"
      ],
      "metadata": {
        "id": "u0cGZeOtZC1E"
      }
    },
    {
      "cell_type": "code",
      "source": [
        "# Visualisasi training progress\n",
        "fig, (ax1, ax2) = plt.subplots(1, 2, figsize=(14, 5))\n",
        "\n",
        "epochs_range = range(1, min(len(train_losses), len(val_losses)) + 1)\n",
        "\n",
        "# Plot loss\n",
        "ax1.plot(epochs_range, train_losses, 'b-o', label='Training Loss', linewidth=2, markersize=8)\n",
        "ax1.plot(epochs_range, val_losses, 'r-s', label='Validation Loss', linewidth=2, markersize=8)\n",
        "ax1.set_xlabel('Epoch', fontsize=11)\n",
        "ax1.set_ylabel('Loss', fontsize=11)\n",
        "ax1.set_title('Training and Validation Loss', fontsize=12, fontweight='bold')\n",
        "ax1.legend(fontsize=10)\n",
        "ax1.grid(True, alpha=0.3)\n",
        "\n",
        "# Plot accuracy\n",
        "ax2.plot(epochs_range, train_accuracies, 'b-o', label='Training Accuracy', linewidth=2, markersize=8)\n",
        "ax2.plot(epochs_range, val_accuracies, 'r-s', label='Validation Accuracy', linewidth=2, markersize=8)\n",
        "ax2.set_xlabel('Epoch', fontsize=11)\n",
        "ax2.set_ylabel('Accuracy', fontsize=11)\n",
        "ax2.set_title('Training and Validation Accuracy', fontsize=12, fontweight='bold')\n",
        "ax2.legend(fontsize=10)\n",
        "ax2.grid(True, alpha=0.3)\n",
        "\n",
        "plt.tight_layout()\n",
        "plt.savefig('training_history.png', dpi=300, bbox_inches='tight')\n",
        "plt.show()\n",
        "\n",
        "print(f\"Best validation loss: {best_val_loss:.4f}\")\n",
        "print(f\"Best validation accuracy: {max(val_accuracies):.4f}\")"
      ],
      "metadata": {
        "id": "kEJ-jOuYFI5C",
        "colab": {
          "base_uri": "https://localhost:8080/",
          "height": 430
        },
        "outputId": "f4ca689d-13e8-4cd6-d271-178c8bf917ba"
      },
      "execution_count": null,
      "outputs": [
        {
          "output_type": "display_data",
          "data": {
            "text/plain": [
              "<Figure size 1400x500 with 2 Axes>"
            ],
            "image/png": "[encoded data removed]"
          },
          "metadata": {}
        },
        {
          "output_type": "stream",
          "name": "stdout",
          "text": [
            "Best validation loss: 0.4827\n",
            "Best validation accuracy: 0.8305\n"
          ]
        }
      ]
    },
    {
      "cell_type": "markdown",
      "source": [
        "14. fungsi prediksi label yang betul"
      ],
      "metadata": {
        "id": "YUJg8cUJZOCC"
      }
    },
    {
      "cell_type": "code",
      "source": [
        "# Fungsi untuk mendapatkan prediksi dan true labels\n",
        "def get_predictions(model, data_loader, device):\n",
        "    model.eval()\n",
        "    predictions = []\n",
        "    true_labels = []\n",
        "\n",
        "    with torch.no_grad():\n",
        "        for batch in data_loader:\n",
        "            input_ids = batch['input_ids'].to(device)\n",
        "            attention_mask = batch['attention_mask'].to(device)\n",
        "            labels = batch['label'].to(device)\n",
        "\n",
        "            outputs = model(input_ids, attention_mask)\n",
        "            preds = torch.argmax(outputs, dim=1)\n",
        "\n",
        "            predictions.extend(preds.cpu().numpy())\n",
        "            true_labels.extend(labels.cpu().numpy())\n",
        "\n",
        "    return np.array(predictions), np.array(true_labels)\n",
        "\n",
        "# Dapatkan prediksi pada test set\n",
        "print(\"Mendapatkan prediksi pada test set...\")\n",
        "y_pred, y_true = get_predictions(model, test_loader, device)\n",
        "print(f\"Prediksi selesai! Total test samples: {len(y_true)}\")"
      ],
      "metadata": {
        "id": "Ghlly9cRFKtL",
        "colab": {
          "base_uri": "https://localhost:8080/"
        },
        "outputId": "f905b019-0d3f-470f-c1b3-e681c25f97a6"
      },
      "execution_count": null,
      "outputs": [
        {
          "output_type": "stream",
          "name": "stdout",
          "text": [
            "Mendapatkan prediksi pada test set...\n",
            "Prediksi selesai! Total test samples: 23204\n"
          ]
        }
      ]
    },
    {
      "cell_type": "markdown",
      "source": [
        "15. training proses plot akurasi"
      ],
      "metadata": {
        "id": "kHodIQPZZSzh"
      }
    },
    {
      "cell_type": "code",
      "source": [
        "# Visualisasi training progress\n",
        "fig, (ax1, ax2) = plt.subplots(1, 2, figsize=(14, 5))\n",
        "\n",
        "epochs_range = range(1, min(len(train_losses), len(val_losses), len(train_accuracies), len(val_accuracies)) + 1)\n",
        "\n",
        "# Plot loss\n",
        "ax1.plot(epochs_range, train_losses, 'b-o', label='Training Loss', linewidth=2, markersize=8)\n",
        "ax1.plot(epochs_range, val_losses, 'r-s', label='Validation Loss', linewidth=2, markersize=8)\n",
        "ax1.set_xlabel('Epoch', fontsize=11)\n",
        "ax1.set_ylabel('Loss', fontsize=11)\n",
        "ax1.set_title('Training and Validation Loss', fontsize=12, fontweight='bold')\n",
        "ax1.legend(fontsize=10)\n",
        "ax1.grid(True, alpha=0.3)\n",
        "\n",
        "# Plot accuracy\n",
        "ax2.plot(epochs_range, train_accuracies, 'b-o', label='Training Accuracy', linewidth=2, markersize=8)\n",
        "ax2.plot(epochs_range, val_accuracies, 'r-s', label='Validation Accuracy', linewidth=2, markersize=8)\n",
        "ax2.set_xlabel('Epoch', fontsize=11)\n",
        "ax2.set_ylabel('Accuracy', fontsize=11)\n",
        "ax2.set_title('Training and Validation Accuracy', fontsize=12, fontweight='bold')\n",
        "ax2.legend(fontsize=10)\n",
        "ax2.grid(True, alpha=0.3)\n",
        "\n",
        "plt.tight_layout()\n",
        "plt.savefig('training_history.png', dpi=300, bbox_inches='tight')\n",
        "plt.show()\n",
        "\n",
        "print(f\"Best validation loss: {best_val_loss:.4f}\")\n",
        "print(f\"Best validation accuracy: {max(val_accuracies):.4f}\")"
      ],
      "metadata": {
        "id": "zdBVzpCCFMuG",
        "colab": {
          "base_uri": "https://localhost:8080/",
          "height": 430
        },
        "outputId": "92314117-1dda-4e48-e183-abb08cd56b51"
      },
      "execution_count": null,
      "outputs": [
        {
          "output_type": "display_data",
          "data": {
            "text/plain": [
              "<Figure size 1400x500 with 2 Axes>"
            ],
            "image/png": "[encoded data removed]"
          },
          "metadata": {}
        },
        {
          "output_type": "stream",
          "name": "stdout",
          "text": [
            "Best validation loss: 0.4827\n",
            "Best validation accuracy: 0.8305\n"
          ]
        }
      ]
    },
    {
      "cell_type": "markdown",
      "source": [
        "16. buat laporan lengkap klasifikasi sentimen"
      ],
      "metadata": {
        "id": "XrBZX15PZdTs"
      }
    },
    {
      "cell_type": "code",
      "source": [
        "# Generate classification report lengkap\n",
        "target_names = ['Negative', 'Neutral', 'Positive']\n",
        "report = classification_report(y_true, y_pred, target_names=target_names, digits=4)\n",
        "\n",
        "print(\"\\n\" + \"=\"*70)\n",
        "print(\"CLASSIFICATION REPORT - SENTENCE-BERT\")\n",
        "print(\"=\"*70)\n",
        "print(report)\n",
        "\n",
        "# Hitung metrics tambahan\n",
        "overall_accuracy = accuracy_score(y_true, y_pred)\n",
        "precision, recall, f1, support = precision_recall_fscore_support(\n",
        "    y_true, y_pred, average='weighted', zero_division=0\n",
        ")\n",
        "\n",
        "print(f\"\\nWeighted Metrics:\")\n",
        "print(f\"  Precision: {precision:.4f}\")\n",
        "print(f\"  Recall: {recall:.4f}\")\n",
        "print(f\"  F1-Score: {f1:.4f}\")\n",
        "print(f\"  Accuracy: {overall_accuracy:.4f}\")"
      ],
      "metadata": {
        "id": "RLCAAaYDFOdT",
        "colab": {
          "base_uri": "https://localhost:8080/"
        },
        "outputId": "c6edb66f-0650-46a3-f698-db5f35620834"
      },
      "execution_count": null,
      "outputs": [
        {
          "output_type": "stream",
          "name": "stdout",
          "text": [
            "\n",
            "======================================================================\n",
            "CLASSIFICATION REPORT - SENTENCE-BERT\n",
            "======================================================================\n",
            "              precision    recall  f1-score   support\n",
            "\n",
            "    Negative     0.7900    0.9431    0.8598     11332\n",
            "     Neutral     0.2724    0.0668    0.1073      2005\n",
            "    Positive     0.8994    0.8371    0.8671      9867\n",
            "\n",
            "    accuracy                         0.8223     23204\n",
            "   macro avg     0.6539    0.6157    0.6114     23204\n",
            "weighted avg     0.7918    0.8223    0.7979     23204\n",
            "\n",
            "\n",
            "Weighted Metrics:\n",
            "  Precision: 0.7918\n",
            "  Recall: 0.8223\n",
            "  F1-Score: 0.7979\n",
            "  Accuracy: 0.8223\n"
          ]
        }
      ]
    },
    {
      "cell_type": "markdown",
      "source": [
        "17. perbandingan model tf idf + logistic regresion"
      ],
      "metadata": {
        "id": "mqdJq6zzZlOP"
      }
    },
    {
      "cell_type": "code",
      "source": [
        "# Baseline: TF-IDF + Logistic Regression\n",
        "print(\"\\n\" + \"=\"*70)\n",
        "print(\"TRAINING BASELINE MODEL\")\n",
        "print(\"=\"*70)\n",
        "\n",
        "# Vectorize dengan TF-IDF\n",
        "vectorizer = TfidfVectorizer(max_features=5000, ngram_range=(1, 2))\n",
        "X_train_tfidf = vectorizer.fit_transform(X_train)\n",
        "X_test_tfidf = vectorizer.transform(X_test)\n",
        "\n",
        "# Train Logistic Regression\n",
        "lr_model = LogisticRegression(max_iter=1000, random_state=SEED, class_weight='balanced')\n",
        "lr_model.fit(X_train_tfidf, y_train)\n",
        "\n",
        "# Prediksi\n",
        "y_pred_baseline = lr_model.predict(X_test_tfidf)\n",
        "\n",
        "# Evaluasi baseline\n",
        "print(\"\\n\" + \"=\"*70)\n",
        "print(\"CLASSIFICATION REPORT - BASELINE (TF-IDF + LR)\")\n",
        "print(\"=\"*70)\n",
        "baseline_report = classification_report(y_true, y_pred_baseline, target_names=target_names, digits=4)\n",
        "print(baseline_report)\n",
        "\n",
        "baseline_accuracy = accuracy_score(y_true, y_pred_baseline)\n",
        "precision_bl, recall_bl, f1_bl, _ = precision_recall_fscore_support(\n",
        "    y_true, y_pred_baseline, average='weighted', zero_division=0\n",
        ")\n",
        "\n",
        "print(f\"\\nBaseline Weighted Metrics:\")\n",
        "print(f\"  Precision: {precision_bl:.4f}\")\n",
        "print(f\"  Recall: {recall_bl:.4f}\")\n",
        "print(f\"  F1-Score: {f1_bl:.4f}\")\n",
        "print(f\"  Accuracy: {baseline_accuracy:.4f}\")"
      ],
      "metadata": {
        "id": "o9cAWkGaFP-w",
        "colab": {
          "base_uri": "https://localhost:8080/"
        },
        "outputId": "85a7ae07-b0e1-4eda-e46f-880eb94ab2f4"
      },
      "execution_count": null,
      "outputs": [
        {
          "output_type": "stream",
          "name": "stdout",
          "text": [
            "\n",
            "======================================================================\n",
            "TRAINING BASELINE MODEL\n",
            "======================================================================\n",
            "\n",
            "======================================================================\n",
            "CLASSIFICATION REPORT - BASELINE (TF-IDF + LR)\n",
            "======================================================================\n",
            "              precision    recall  f1-score   support\n",
            "\n",
            "    Negative     0.8321    0.7030    0.7621     11332\n",
            "     Neutral     0.1788    0.4743    0.2597      2005\n",
            "    Positive     0.9030    0.7607    0.8258      9867\n",
            "\n",
            "    accuracy                         0.7078     23204\n",
            "   macro avg     0.6380    0.6460    0.6159     23204\n",
            "weighted avg     0.8058    0.7078    0.7458     23204\n",
            "\n",
            "\n",
            "Baseline Weighted Metrics:\n",
            "  Precision: 0.8058\n",
            "  Recall: 0.7078\n",
            "  F1-Score: 0.7458\n",
            "  Accuracy: 0.7078\n"
          ]
        }
      ]
    },
    {
      "cell_type": "markdown",
      "source": [
        "18. Tabel hasil banding model"
      ],
      "metadata": {
        "id": "MwKfLxFWZrLP"
      }
    },
    {
      "cell_type": "code",
      "source": [
        "# Tabel perbandingan model\n",
        "comparison_df = pd.DataFrame({\n",
        "    'Model': ['TF-IDF + Logistic Regression', 'Sentence-BERT (IndoBERT)'],\n",
        "    'Precision': [precision_bl, precision],\n",
        "    'Recall': [recall_bl, recall],\n",
        "    'F1-Score': [f1_bl, f1],\n",
        "    'Accuracy': [baseline_accuracy, overall_accuracy]\n",
        "})\n",
        "\n",
        "print(\"\\n\" + \"=\"*70)\n",
        "print(\"MODEL COMPARISON\")\n",
        "print(\"=\"*70)\n",
        "print(comparison_df.to_string(index=False))\n",
        "\n",
        "# Visualisasi perbandingan\n",
        "fig, ax = plt.subplots(figsize=(11, 6))\n",
        "x = np.arange(len(comparison_df['Model']))\n",
        "width = 0.2\n",
        "\n",
        "metrics = ['Precision', 'Recall', 'F1-Score', 'Accuracy']\n",
        "colors = ['#1f77b4', '#ff7f0e', '#2ca02c', '#d62728']\n",
        "\n",
        "for i, metric in enumerate(metrics):\n",
        "    values = comparison_df[metric].values\n",
        "    bars = ax.bar(x + i*width, values, width, label=metric, color=colors[i])\n",
        "\n",
        "    # Tambahkan nilai di atas bar\n",
        "    for bar in bars:\n",
        "        height = bar.get_height()\n",
        "        ax.text(bar.get_x() + bar.get_width()/2., height,\n",
        "                f'{height:.3f}',\n",
        "                ha='center', va='bottom', fontsize=9)\n",
        "\n",
        "ax.set_xlabel('Model', fontsize=12, fontweight='bold')\n",
        "ax.set_ylabel('Score', fontsize=12, fontweight='bold')\n",
        "ax.set_title('Model Performance Comparison', fontsize=14, fontweight='bold')\n",
        "ax.set_xticks(x + width * 1.5)\n",
        "ax.set_xticklabels(comparison_df['Model'], rotation=15, ha='right')\n",
        "ax.legend(fontsize=10)\n",
        "ax.set_ylim(0, 1.1)\n",
        "ax.grid(axis='y', alpha=0.3)\n",
        "\n",
        "plt.tight_layout()\n",
        "plt.savefig('model_comparison.png', dpi=300, bbox_inches='tight')\n",
        "plt.show()\n",
        "\n",
        "# Hitung improvement\n",
        "improvement = ((overall_accuracy - baseline_accuracy) / baseline_accuracy) * 100\n",
        "print(f\"\\nSentence-BERT improvement over baseline: {improvement:.2f}%\")"
      ],
      "metadata": {
        "id": "kbSXu5wFL7Gh",
        "colab": {
          "base_uri": "https://localhost:8080/",
          "height": 783
        },
        "outputId": "7702501a-9e1c-4560-c707-70709f132f31"
      },
      "execution_count": null,
      "outputs": [
        {
          "output_type": "stream",
          "name": "stdout",
          "text": [
            "\n",
            "======================================================================\n",
            "MODEL COMPARISON\n",
            "======================================================================\n",
            "                       Model  Precision   Recall  F1-Score  Accuracy\n",
            "TF-IDF + Logistic Regression   0.805827 0.707766  0.745777  0.707766\n",
            "    Sentence-BERT (IndoBERT)   0.791783 0.822315  0.797892  0.822315\n"
          ]
        },
        {
          "output_type": "display_data",
          "data": {
            "text/plain": [
              "<Figure size 1100x600 with 1 Axes>"
            ],
            "image/png": "[encoded data removed]"
          },
          "metadata": {}
        },
        {
          "output_type": "stream",
          "name": "stdout",
          "text": [
            "\n",
            "Sentence-BERT improvement over baseline: 16.18%\n"
          ]
        }
      ]
    },
    {
      "cell_type": "markdown",
      "source": [
        "19. Tes fungsi untuk prediksi teks yang baru"
      ],
      "metadata": {
        "id": "ohxQncrkZuMf"
      }
    },
    {
      "cell_type": "code",
      "source": [
        "# Fungsi untuk prediksi text baru\n",
        "def predict_sentiment(text, model, tokenizer, device, label_names):\n",
        "    model.eval()\n",
        "\n",
        "    # Preprocessing\n",
        "    text_clean = preprocess_text(text)\n",
        "\n",
        "    # Tokenize\n",
        "    encoding = tokenizer(\n",
        "        text_clean,\n",
        "        add_special_tokens=True,\n",
        "        max_length=256,\n",
        "        padding='max_length',\n",
        "        truncation=True,\n",
        "        return_tensors='pt'\n",
        "    )\n",
        "\n",
        "    input_ids = encoding['input_ids'].to(device)\n",
        "    attention_mask = encoding['attention_mask'].to(device)\n",
        "\n",
        "    # Prediksi\n",
        "    with torch.no_grad():\n",
        "        outputs = model(input_ids, attention_mask)\n",
        "        probs = torch.softmax(outputs, dim=1)\n",
        "        pred_label = torch.argmax(probs, dim=1).item()\n",
        "        confidence = probs[0][pred_label].item()\n",
        "\n",
        "    sentiment = label_names[pred_label]\n",
        "\n",
        "    return sentiment, confidence, probs[0].cpu().numpy()\n",
        "\n",
        "# Test prediksi dengan contoh review\n",
        "test_reviews = [\n",
        "    \"Aplikasi sering crash dan lemot banget. Sangat mengecewakan!\",\n",
        "    \"Lumayan sih, tapi masih ada bug di fitur gopay\",\n",
        "    \"Sangat puas dengan layanan gojek. Driver ramah dan cepat!\",\n",
        "    \"Ga bisa login, password reset juga ga berfungsi\",\n",
        "    \"Ok lah, standar aja mungkin baikin dikit ui ux nya\"\n",
        "]\n",
        "\n",
        "print(\"\\n\" + \"=\"*70)\n",
        "print(\"CONTOH PREDIKSI SENTIMENT\")\n",
        "print(\"=\"*70)\n",
        "\n",
        "for i, review in enumerate(test_reviews):\n",
        "    sentiment, confidence, probs = predict_sentiment(review, model, tokenizer, device, label_names)\n",
        "    print(f\"\\nReview {i+1}: {review}\")\n",
        "    print(f\"Predicted Sentiment: {sentiment}\")\n",
        "    print(f\"Confidence: {confidence:.4f}\")\n",
        "    print(f\"Probabilities - Negative: {probs[0]:.4f}, Neutral: {probs[1]:.4f}, Positive: {probs[2]:.4f}\")"
      ],
      "metadata": {
        "id": "9_kSAtWrL89S",
        "colab": {
          "base_uri": "https://localhost:8080/"
        },
        "outputId": "c21b4399-36a0-4fd8-973d-aafd0607f2cd"
      },
      "execution_count": null,
      "outputs": [
        {
          "output_type": "stream",
          "name": "stdout",
          "text": [
            "\n",
            "======================================================================\n",
            "CONTOH PREDIKSI SENTIMENT\n",
            "======================================================================\n",
            "\n",
            "Review 1: Aplikasi sering crash dan lemot banget. Sangat mengecewakan!\n",
            "Predicted Sentiment: Negative\n",
            "Confidence: 0.9733\n",
            "Probabilities - Negative: 0.9733, Neutral: 0.0162, Positive: 0.0105\n",
            "\n",
            "Review 2: Lumayan sih, tapi masih ada bug di fitur gopay\n",
            "Predicted Sentiment: Positive\n",
            "Confidence: 0.9057\n",
            "Probabilities - Negative: 0.0087, Neutral: 0.0856, Positive: 0.9057\n",
            "\n",
            "Review 3: Sangat puas dengan layanan gojek. Driver ramah dan cepat!\n",
            "Predicted Sentiment: Positive\n",
            "Confidence: 0.9977\n",
            "Probabilities - Negative: 0.0010, Neutral: 0.0013, Positive: 0.9977\n",
            "\n",
            "Review 4: Ga bisa login, password reset juga ga berfungsi\n",
            "Predicted Sentiment: Negative\n",
            "Confidence: 0.9211\n",
            "Probabilities - Negative: 0.9211, Neutral: 0.0429, Positive: 0.0360\n",
            "\n",
            "Review 5: Ok lah, standar aja mungkin baikin dikit ui ux nya\n",
            "Predicted Sentiment: Positive\n",
            "Confidence: 0.9966\n",
            "Probabilities - Negative: 0.0011, Neutral: 0.0022, Positive: 0.9966\n"
          ]
        }
      ]
    },
    {
      "cell_type": "markdown",
      "source": [
        "20. simpan model training"
      ],
      "metadata": {
        "id": "4wHJ2KIXZyUD"
      }
    },
    {
      "cell_type": "code",
      "source": [
        "# Save trained model dan tokenizer\n",
        "import os\n",
        "\n",
        "# Buat direktori untuk menyimpan model\n",
        "save_dir = 'sentiment_model'\n",
        "os.makedirs(save_dir, exist_ok=True)\n",
        "\n",
        "# Save model state\n",
        "model_save_path = os.path.join(save_dir, 'model.pth')\n",
        "torch.save({\n",
        "    'model_state_dict': model.state_dict(),\n",
        "    'label_names': label_names,\n",
        "    'model_name': MODEL_NAME,\n",
        "    'vocab_size': tokenizer.vocab_size,\n",
        "    'max_length': MAX_LENGTH,\n",
        "    'num_classes': 3\n",
        "}, model_save_path)\n",
        "\n",
        "print(f\"Model berhasil disimpan di: {model_save_path}\")\n",
        "\n",
        "# Save tokenizer\n",
        "tokenizer.save_pretrained(save_dir)\n",
        "print(f\"Tokenizer berhasil disimpan di: {save_dir}\")\n",
        "\n",
        "# Zip folder untuk download\n",
        "!zip -r sentiment_model.zip {save_dir}\n",
        "\n",
        "# Download model\n",
        "files.download('sentiment_model.zip')\n",
        "print(\"\\nModel dan tokenizer berhasil di-download!\")"
      ],
      "metadata": {
        "id": "VFrLYyJqL_iy",
        "colab": {
          "base_uri": "https://localhost:8080/",
          "height": 243
        },
        "outputId": "bec30658-dc80-4697-dbe2-c49bf14faa6d"
      },
      "execution_count": null,
      "outputs": [
        {
          "output_type": "stream",
          "name": "stdout",
          "text": [
            "Model berhasil disimpan di: sentiment_model/model.pth\n",
            "Tokenizer berhasil disimpan di: sentiment_model\n",
            "updating: sentiment_model/ (stored 0%)\n",
            "updating: sentiment_model/tokenizer.json (deflated 71%)\n",
            "updating: sentiment_model/tokenizer_config.json (deflated 74%)\n",
            "updating: sentiment_model/model.pth\n",
            "\n",
            " (deflated 7%)\n",
            "updating: sentiment_model/special_tokens_map.json (deflated 42%)\n",
            "updating: sentiment_model/vocab.txt (deflated 52%)\n"
          ]
        },
        {
          "output_type": "display_data",
          "data": {
            "text/plain": [
              "<IPython.core.display.Javascript object>"
            ],
            "application/javascript": [
              "\n",
              "    async function download(id, filename, size) {\n",
              "      if (!google.colab.kernel.accessAllowed) {\n",
              "        return;\n",
              "      }\n",
              "      const div = document.createElement('div');\n",
              "      const label = document.createElement('label');\n",
              "      label.textContent = `Downloading \"${filename}\": `;\n",
              "      div.appendChild(label);\n",
              "      const progress = document.createElement('progress');\n",
              "      progress.max = size;\n",
              "      div.appendChild(progress);\n",
              "      document.body.appendChild(div);\n",
              "\n",
              "      const buffers = [];\n",
              "      let downloaded = 0;\n",
              "\n",
              "      const channel = await google.colab.kernel.comms.open(id);\n",
              "      // Send a message to notify the kernel that we're ready.\n",
              "      channel.send({})\n",
              "\n",
              "      for await (const message of channel.messages) {\n",
              "        // Send a message to notify the kernel that we're ready.\n",
              "        channel.send({})\n",
              "        if (message.buffers) {\n",
              "          for (const buffer of message.buffers) {\n",
              "            buffers.push(buffer);\n",
              "            downloaded += buffer.byteLength;\n",
              "            progress.value = downloaded;\n",
              "          }\n",
              "        }\n",
              "      }\n",
              "      const blob = new Blob(buffers, {type: 'application/binary'});\n",
              "      const a = document.createElement('a');\n",
              "      a.href = window.URL.createObjectURL(blob);\n",
              "      a.download = filename;\n",
              "      div.appendChild(a);\n",
              "      a.click();\n",
              "      div.remove();\n",
              "    }\n",
              "  "
            ]
          },
          "metadata": {}
        },
        {
          "output_type": "display_data",
          "data": {
            "text/plain": [
              "<IPython.core.display.Javascript object>"
            ],
            "application/javascript": [
              "download(\"download_7c681fe5-0855-404e-9426-57d5927eeff3\", \"sentiment_model.zip\", 410070785)"
            ]
          },
          "metadata": {}
        },
        {
          "output_type": "stream",
          "name": "stdout",
          "text": [
            "\n",
            "Model dan tokenizer berhasil di-download!\n"
          ]
        }
      ]
    },
    {
      "cell_type": "markdown",
      "source": [
        "21. hasil keseluruhan tahapan penelitian"
      ],
      "metadata": {
        "id": "L3C0v2cdZ11T"
      }
    },
    {
      "cell_type": "code",
      "source": [
        "# Ringkasan hasil eksperimen\n",
        "print(\"\\n\" + \"=\"*70)\n",
        "print(\"RINGKASAN HASIL EKSPERIMEN\")\n",
        "print(\"=\"*70)\n",
        "\n",
        "print(f\"\\nDataset:\")\n",
        "print(f\"  Total data: {len(df)}\")\n",
        "print(f\"  Train: {len(X_train)} | Val: {len(X_val)} | Test: {len(X_test)}\")\n",
        "print(f\"  Classes: Negative, Neutral, Positive\")\n",
        "\n",
        "print(f\"\\nModel:\")\n",
        "print(f\"  Architecture: Sentence-BERT dengan Mean Pooling\")\n",
        "print(f\"  Base model: {MODEL_NAME}\")\n",
        "print(f\"  Total parameters: {total_params:,}\")\n",
        "print(f\"  Max sequence length: {MAX_LENGTH}\")\n",
        "\n",
        "print(f\"\\nTraining:\")\n",
        "print(f\"  Epochs: {EPOCHS}\")\n",
        "print(f\"  Batch size: {BATCH_SIZE}\")\n",
        "print(f\"  Learning rate: {LEARNING_RATE}\")\n",
        "print(f\"  Best validation loss: {best_val_loss:.4f}\")\n",
        "\n",
        "print(f\"\\nTest Results (Sentence-BERT):\")\n",
        "print(f\"  Accuracy: {overall_accuracy:.4f}\")\n",
        "print(f\"  Precision: {precision:.4f}\")\n",
        "print(f\"  Recall: {recall:.4f}\")\n",
        "print(f\"  F1-Score: {f1:.4f}\")\n",
        "\n",
        "print(f\"\\nBaseline Results (TF-IDF + LR):\")\n",
        "print(f\"  Accuracy: {baseline_accuracy:.4f}\")\n",
        "print(f\"  Precision: {precision_bl:.4f}\")\n",
        "print(f\"  Recall: {recall_bl:.4f}\")\n",
        "print(f\"  F1-Score: {f1_bl:.4f}\")\n",
        "\n",
        "print(f\"\\nImprovement:\")\n",
        "print(f\"  Accuracy: +{(overall_accuracy - baseline_accuracy):.4f} ({improvement:.2f}%)\")\n",
        "print(f\"  F1-Score: +{(f1 - f1_bl):.4f}\")\n",
        "\n",
        "print(\"\\n\" + \"=\"*70)"
      ],
      "metadata": {
        "id": "S5BQEtsHMC-V",
        "colab": {
          "base_uri": "https://localhost:8080/"
        },
        "outputId": "e479bbe2-10cd-4cb5-c376-1444d45ffa89"
      },
      "execution_count": null,
      "outputs": [
        {
          "output_type": "stream",
          "name": "stdout",
          "text": [
            "\n",
            "======================================================================\n",
            "RINGKASAN HASIL EKSPERIMEN\n",
            "======================================================================\n",
            "\n",
            "Dataset:\n",
            "  Total data: 116016\n",
            "  Train: 81210 | Val: 11602 | Test: 23204\n",
            "  Classes: Negative, Neutral, Positive\n",
            "\n",
            "Model:\n",
            "  Architecture: Sentence-BERT dengan Mean Pooling\n",
            "  Base model: indolem/indobert-base-uncased\n",
            "  Total parameters: 110,560,515\n",
            "  Max sequence length: 256\n",
            "\n",
            "Training:\n",
            "  Epochs: 4\n",
            "  Batch size: 16\n",
            "  Learning rate: 2e-05\n",
            "  Best validation loss: 0.4827\n",
            "\n",
            "Test Results (Sentence-BERT):\n",
            "  Accuracy: 0.8223\n",
            "  Precision: 0.7918\n",
            "  Recall: 0.8223\n",
            "  F1-Score: 0.7979\n",
            "\n",
            "Baseline Results (TF-IDF + LR):\n",
            "  Accuracy: 0.7078\n",
            "  Precision: 0.8058\n",
            "  Recall: 0.7078\n",
            "  F1-Score: 0.7458\n",
            "\n",
            "Improvement:\n",
            "  Accuracy: +0.1145 (16.18%)\n",
            "  F1-Score: +0.0521\n",
            "\n",
            "======================================================================\n"
          ]
        }
      ]
    },
    {
      "cell_type": "markdown",
      "source": [
        "22. analisis kasus yang eror untuk klasifikasi yang susah"
      ],
      "metadata": {
        "id": "fXyp0Yu_Z6iW"
      }
    },
    {
      "cell_type": "code",
      "source": [
        "class_names = [\"Negative\", \"Neutral\", \"Positive\"]\n",
        "# Analisis error untuk memahami kasus yang sulit diklasifikasi\n",
        "error_indices = np.where(y_pred != y_true)[0]\n",
        "print(f\"\\nTotal misclassified samples: {len(error_indices)} out of {len(y_true)} ({len(error_indices)/len(y_true)*100:.2f}%)\")\n",
        "\n",
        "# Analisis error per kelas\n",
        "print(\"\\nMisclassification per class:\")\n",
        "for i, class_name in enumerate(class_names):\n",
        "    class_errors = np.sum((y_true == i) & (y_pred != i))\n",
        "    class_total = np.sum(y_true == i)\n",
        "    error_rate = (class_errors / class_total * 100) if class_total > 0 else 0\n",
        "    print(f\"  {class_name}: {class_errors}/{class_total} ({error_rate:.1f}%)\")\n",
        "\n",
        "# Tampilkan beberapa contoh misclassification\n",
        "if len(error_indices) > 0:\n",
        "    print(\"\\nContoh misclassification (5 pertama):\")\n",
        "    test_texts = X_test.reset_index(drop=True)\n",
        "\n",
        "    for i, idx in enumerate(error_indices[:5]):\n",
        "        true_label = label_names[y_true[idx]]\n",
        "        pred_label = label_names[y_pred[idx]]\n",
        "        text = test_texts.iloc[idx][:150]\n",
        "\n",
        "        print(f\"\\n{i+1}. Review: {text}...\")\n",
        "        print(f\"   True: {true_label} | Predicted: {pred_label}\")"
      ],
      "metadata": {
        "id": "dDo7hDR1MEtj",
        "colab": {
          "base_uri": "https://localhost:8080/"
        },
        "outputId": "5ef04df3-d9cd-43eb-e090-c64fee1284b7"
      },
      "execution_count": null,
      "outputs": [
        {
          "output_type": "stream",
          "name": "stdout",
          "text": [
            "\n",
            "Total misclassified samples: 4123 out of 23204 (17.77%)\n",
            "\n",
            "Misclassification per class:\n",
            "  Negative: 645/11332 (5.7%)\n",
            "  Neutral: 1871/2005 (93.3%)\n",
            "  Positive: 1607/9867 (16.3%)\n",
            "\n",
            "Contoh misclassification (5 pertama):\n",
            "\n",
            "1. Review: parah versi baru hanya untuk andoid baru bagi hp yang pakai android lama selalu force close suruh update andoid emang nenek moyang lo seenaknya minta ...\n",
            "   True: Neutral | Predicted: Negative\n",
            "\n",
            "2. Review: di propinsi jambi penjemputan selalu jauh dan ongkos terlalu murah jadi driver tidak mau narik penumpang kerna tidak sesuai...\n",
            "   True: Positive | Predicted: Negative\n",
            "\n",
            "3. Review: saya suka bingun sama penumpang yang ngasih bintang jelek salahnya apah yah waktu jemput pas di jalan sudah hati...\n",
            "   True: Positive | Predicted: Negative\n",
            "\n",
            "4. Review: mau login ke gojek aplikasi gk terbuka ini kenapa...\n",
            "   True: Positive | Predicted: Negative\n",
            "\n",
            "5. Review: apk sudah bagus tapi tiap pagi susah sangat dapet mobil sekalinya dapet di cancel...\n",
            "   True: Positive | Predicted: Neutral\n"
          ]
        }
      ]
    },
    {
      "cell_type": "markdown",
      "source": [
        "23. visualisasi per kelasny masing masing"
      ],
      "metadata": {
        "id": "4O_SlSpiaHLR"
      }
    },
    {
      "cell_type": "code",
      "source": [
        "# Visualisasi per-class performance\n",
        "from sklearn.metrics import precision_recall_fscore_support\n",
        "\n",
        "precision_per_class, recall_per_class, f1_per_class, support_per_class = precision_recall_fscore_support(\n",
        "    y_true, y_pred, labels=[0, 1, 2], zero_division=0\n",
        ")\n",
        "\n",
        "# Buat bar chart\n",
        "fig, ax = plt.subplots(figsize=(10, 6))\n",
        "\n",
        "x = np.arange(len(class_names))\n",
        "width = 0.25\n",
        "\n",
        "bars1 = ax.bar(x - width, precision_per_class, width, label='Precision', color='#1f77b4')\n",
        "bars2 = ax.bar(x, recall_per_class, width, label='Recall', color='#ff7f0e')\n",
        "bars3 = ax.bar(x + width, f1_per_class, width, label='F1-Score', color='#2ca02c')\n",
        "\n",
        "# Tambahkan nilai di atas bar\n",
        "for bars in [bars1, bars2, bars3]:\n",
        "    for bar in bars:\n",
        "        height = bar.get_height()\n",
        "        ax.text(bar.get_x() + bar.get_width()/2., height,\n",
        "                f'{height:.3f}',\n",
        "                ha='center', va='bottom', fontsize=9)\n",
        "\n",
        "ax.set_xlabel('Sentiment Class', fontsize=12, fontweight='bold')\n",
        "ax.set_ylabel('Score', fontsize=12, fontweight='bold')\n",
        "ax.set_title('Per-Class Performance Metrics', fontsize=14, fontweight='bold')\n",
        "ax.set_xticks(x)\n",
        "ax.set_xticklabels(class_names)\n",
        "ax.legend(fontsize=10)\n",
        "ax.set_ylim(0, 1.1)\n",
        "ax.grid(axis='y', alpha=0.3)\n",
        "\n",
        "plt.tight_layout()\n",
        "plt.savefig('per_class_performance.png', dpi=300, bbox_inches='tight')\n",
        "plt.show()\n",
        "\n",
        "# Print support\n",
        "print(\"\\nSupport (jumlah sample per class di test set):\")\n",
        "for i, class_name in enumerate(class_names):\n",
        "    print(f\"  {class_name}: {support_per_class[i]}\")"
      ],
      "metadata": {
        "id": "bCss0SaYMGpr",
        "colab": {
          "base_uri": "https://localhost:8080/",
          "height": 694
        },
        "outputId": "0882a365-f8d5-4c33-c37c-e13c13277579"
      },
      "execution_count": null,
      "outputs": [
        {
          "output_type": "display_data",
          "data": {
            "text/plain": [
              "<Figure size 1000x600 with 1 Axes>"
            ],
            "image/png": "[encoded data removed]"
          },
          "metadata": {}
        },
        {
          "output_type": "stream",
          "name": "stdout",
          "text": [
            "\n",
            "Support (jumlah sample per class di test set):\n",
            "  Negative: 11332\n",
            "  Neutral: 2005\n",
            "  Positive: 9867\n"
          ]
        }
      ]
    }
  ]
}